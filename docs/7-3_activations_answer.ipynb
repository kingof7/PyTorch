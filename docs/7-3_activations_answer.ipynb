{
 "cells": [
  {
   "cell_type": "code",
   "execution_count": null,
   "id": "6e6b7187",
   "metadata": {},
   "outputs": [],
   "source": [
    "# Copyright 2023, Acadential, All rights reserved."
   ]
  },
  {
   "cell_type": "markdown",
   "id": "e2a281e2",
   "metadata": {},
   "source": [
    "# 7-3. Pytorch로 구현해보는 Activation Function"
   ]
  },
  {
   "cell_type": "markdown",
   "id": "16089521",
   "metadata": {},
   "source": [
    "## Preliminary setup"
   ]
  },
  {
   "cell_type": "code",
   "execution_count": 12,
   "id": "6edcd897",
   "metadata": {},
   "outputs": [],
   "source": [
    "import torch \n",
    "from torch import nn \n",
    "import numpy as np \n",
    "import matplotlib.pyplot as plt "
   ]
  },
  {
   "cell_type": "code",
   "execution_count": 17,
   "id": "2e2c0517",
   "metadata": {},
   "outputs": [],
   "source": [
    "def tensor2numpy(act_function, x):\n",
    "    return act_function(torch.tensor(x)).numpy()"
   ]
  },
  {
   "cell_type": "code",
   "execution_count": 18,
   "id": "76915269",
   "metadata": {},
   "outputs": [],
   "source": [
    "x = np.linspace(-5, 5, 1000)"
   ]
  },
  {
   "cell_type": "markdown",
   "id": "557b8602",
   "metadata": {},
   "source": [
    "# 대표적인 activation들"
   ]
  },
  {
   "cell_type": "markdown",
   "id": "7fc075b3",
   "metadata": {},
   "source": [
    "1. ReLU\n",
    "2. Tanh\n",
    "3. Sigmoid\n",
    "\n",
    "대부분의 activation 함수들은 input 없이 initialize합니다. \\\n",
    "Initialize된 torch.nn activation 함수는 (어떤 임의의 shape의) tensor을 인풋으로 받아 element-wise하게 계산해줍니다 (forward pass)."
   ]
  },
  {
   "cell_type": "markdown",
   "id": "53b1782f",
   "metadata": {},
   "source": [
    "## ReLU"
   ]
  },
  {
   "cell_type": "code",
   "execution_count": 19,
   "id": "7a9765c8",
   "metadata": {},
   "outputs": [],
   "source": [
    "relu = nn.ReLU()"
   ]
  },
  {
   "cell_type": "code",
   "execution_count": 46,
   "id": "d9d24a88",
   "metadata": {},
   "outputs": [
    {
     "data": {
      "text/plain": [
       "tensor([0.4130, 0.8039, 0.1855, 0.0318, 0.4583, 0.2284, 0.3733, 0.8025, 0.5961,\n",
       "        0.1657])"
      ]
     },
     "execution_count": 46,
     "metadata": {},
     "output_type": "execute_result"
    }
   ],
   "source": [
    "relu(torch.rand(10))"
   ]
  },
  {
   "cell_type": "code",
   "execution_count": 45,
   "id": "59fad06d",
   "metadata": {},
   "outputs": [
    {
     "data": {
      "text/plain": [
       "tensor([[0.0938, 0.2605, 0.6387, 0.8561, 0.1599],\n",
       "        [0.9389, 0.7074, 0.1182, 0.5385, 0.1112],\n",
       "        [0.3310, 0.9159, 0.3720, 0.0071, 0.5716],\n",
       "        [0.0881, 0.9765, 0.3548, 0.7717, 0.0508],\n",
       "        [0.2994, 0.5539, 0.3624, 0.5641, 0.2421],\n",
       "        [0.7437, 0.1714, 0.7737, 0.6764, 0.9239],\n",
       "        [0.3366, 0.2799, 0.0198, 0.5001, 0.3433],\n",
       "        [0.8398, 0.0351, 0.9866, 0.1172, 0.4843],\n",
       "        [0.8414, 0.0655, 0.9096, 0.9625, 0.4084],\n",
       "        [0.9652, 0.3364, 0.2634, 0.0493, 0.0711]])"
      ]
     },
     "execution_count": 45,
     "metadata": {},
     "output_type": "execute_result"
    }
   ],
   "source": [
    "relu(torch.rand(10, 5))"
   ]
  },
  {
   "cell_type": "code",
   "execution_count": 48,
   "id": "fef7d4ad",
   "metadata": {},
   "outputs": [
    {
     "data": {
      "text/plain": [
       "tensor([[[0.6986, 0.6937, 0.3704],\n",
       "         [0.3315, 0.9469, 0.5160],\n",
       "         [0.1658, 0.5717, 0.9329],\n",
       "         [0.8527, 0.6501, 0.7486],\n",
       "         [0.1095, 0.5434, 0.6899],\n",
       "         [0.3497, 0.5462, 0.5170]],\n",
       "\n",
       "        [[0.6583, 0.5110, 0.7454],\n",
       "         [0.1716, 0.3207, 0.4914],\n",
       "         [0.8675, 0.5451, 0.7122],\n",
       "         [0.0559, 0.7843, 0.4327],\n",
       "         [0.8601, 0.6742, 0.7651],\n",
       "         [0.3151, 0.3490, 0.2121]],\n",
       "\n",
       "        [[0.8011, 0.1438, 0.0241],\n",
       "         [0.5700, 0.4509, 0.1600],\n",
       "         [0.0334, 0.6310, 0.6579],\n",
       "         [0.1787, 0.7693, 0.2982],\n",
       "         [0.4729, 0.4627, 0.7911],\n",
       "         [0.5806, 0.9623, 0.3648]]])"
      ]
     },
     "execution_count": 48,
     "metadata": {},
     "output_type": "execute_result"
    }
   ],
   "source": [
    "relu(torch.rand(3, 6, 3))"
   ]
  },
  {
   "cell_type": "markdown",
   "id": "09421ada",
   "metadata": {},
   "source": [
    "### Plot"
   ]
  },
  {
   "cell_type": "code",
   "execution_count": 22,
   "id": "f0a9a52e",
   "metadata": {},
   "outputs": [
    {
     "data": {
      "image/png": "[encoded data removed]",
      "text/plain": [
       "<Figure size 432x288 with 1 Axes>"
      ]
     },
     "metadata": {
      "needs_background": "light"
     },
     "output_type": "display_data"
    }
   ],
   "source": [
    "fig, ax = plt.subplots()\n",
    "ax.plot(x, tensor2numpy(relu, x), linewidth=2.5)\n",
    "plt.xlabel(\"x\")\n",
    "plt.ylabel(\"y\") \n",
    "plt.title(\"ReLU\")\n",
    "ax.grid(True, which='both')\n",
    "ax.axhline(y=0, color='k', linewidth=1.2)\n",
    "ax.axvline(x=0, color='k', linewidth=1.2)\n",
    "ax.xaxis.tick_bottom()\n",
    "ax.yaxis.tick_left()\n",
    "plt.show()"
   ]
  },
  {
   "cell_type": "markdown",
   "id": "f7a11a5c",
   "metadata": {},
   "source": [
    "## Tanh"
   ]
  },
  {
   "cell_type": "code",
   "execution_count": 23,
   "id": "7027651b",
   "metadata": {},
   "outputs": [],
   "source": [
    "tanh = nn.Tanh()"
   ]
  },
  {
   "cell_type": "code",
   "execution_count": 40,
   "id": "4842df86",
   "metadata": {},
   "outputs": [
    {
     "data": {
      "text/plain": [
       "tensor([0.2749, 0.7017, 0.6600, 0.1721, 0.4957, 0.7467, 0.7406, 0.6408, 0.0497,\n",
       "        0.6610])"
      ]
     },
     "execution_count": 40,
     "metadata": {},
     "output_type": "execute_result"
    }
   ],
   "source": [
    "tanh(torch.rand(10))"
   ]
  },
  {
   "cell_type": "markdown",
   "id": "06d092aa",
   "metadata": {},
   "source": [
    "### Plot"
   ]
  },
  {
   "cell_type": "code",
   "execution_count": 24,
   "id": "3a084d68",
   "metadata": {},
   "outputs": [
    {
     "data": {
      "image/png": "[encoded data removed]",
      "text/plain": [
       "<Figure size 432x288 with 1 Axes>"
      ]
     },
     "metadata": {
      "needs_background": "light"
     },
     "output_type": "display_data"
    }
   ],
   "source": [
    "fig, ax = plt.subplots()\n",
    "ax.plot(x, tensor2numpy(tanh, x), linewidth=2.5)\n",
    "plt.xlabel(\"x\")\n",
    "plt.ylabel(\"y\") \n",
    "plt.title(\"Tanh\")\n",
    "# ax.set_aspect('equal')\n",
    "ax.grid(True, which='both')\n",
    "ax.axhline(y=0, color='k', linewidth=1.2)\n",
    "ax.axvline(x=0, color='k', linewidth=1.2)\n",
    "ax.xaxis.tick_bottom()\n",
    "ax.yaxis.tick_left()\n",
    "plt.show()"
   ]
  },
  {
   "cell_type": "markdown",
   "id": "086c67af",
   "metadata": {},
   "source": [
    "## Sigmoid"
   ]
  },
  {
   "cell_type": "code",
   "execution_count": 25,
   "id": "549bf234",
   "metadata": {},
   "outputs": [],
   "source": [
    "sigmoid = nn.Sigmoid()"
   ]
  },
  {
   "cell_type": "code",
   "execution_count": 41,
   "id": "ed13f88a",
   "metadata": {},
   "outputs": [
    {
     "data": {
      "text/plain": [
       "tensor([0.6916, 0.6632, 0.6789, 0.5106, 0.5513, 0.6909, 0.6980, 0.7192, 0.6555,\n",
       "        0.6031])"
      ]
     },
     "execution_count": 41,
     "metadata": {},
     "output_type": "execute_result"
    }
   ],
   "source": [
    "sigmoid(torch.rand(10))"
   ]
  },
  {
   "cell_type": "markdown",
   "id": "3f80e11e",
   "metadata": {},
   "source": [
    "### Plot"
   ]
  },
  {
   "cell_type": "code",
   "execution_count": 26,
   "id": "020e2282",
   "metadata": {},
   "outputs": [
    {
     "data": {
      "image/png": "[encoded data removed]",
      "text/plain": [
       "<Figure size 432x288 with 1 Axes>"
      ]
     },
     "metadata": {
      "needs_background": "light"
     },
     "output_type": "display_data"
    }
   ],
   "source": [
    "fig, ax = plt.subplots()\n",
    "ax.plot(x, tensor2numpy(sigmoid, x), linewidth=2.5)\n",
    "plt.xlabel(\"x\")\n",
    "plt.ylabel(\"y\") \n",
    "plt.title(\"Sigmoid\")\n",
    "# ax.set_aspect('equal')\n",
    "ax.grid(True, which='both')\n",
    "ax.axhline(y=0, color='k', linewidth=1.2)\n",
    "ax.axvline(x=0, color='k', linewidth=1.2)\n",
    "ax.xaxis.tick_bottom()\n",
    "ax.yaxis.tick_left()\n",
    "plt.show()"
   ]
  },
  {
   "cell_type": "markdown",
   "id": "ce12012e",
   "metadata": {},
   "source": [
    "# ReLU 계열의 다른 activation들"
   ]
  },
  {
   "cell_type": "markdown",
   "id": "18b86f81",
   "metadata": {},
   "source": [
    "## LeakyReLU"
   ]
  },
  {
   "cell_type": "code",
   "execution_count": 32,
   "id": "4d08df4e",
   "metadata": {},
   "outputs": [],
   "source": [
    "leaky_relu = nn.LeakyReLU(0.1)"
   ]
  },
  {
   "cell_type": "code",
   "execution_count": 43,
   "id": "0316431d",
   "metadata": {},
   "outputs": [
    {
     "data": {
      "text/plain": [
       "tensor([0.9726, 0.9901, 0.9532, 0.7912, 0.3251, 0.1373, 0.7060, 0.5288, 0.0072,\n",
       "        0.3307])"
      ]
     },
     "execution_count": 43,
     "metadata": {},
     "output_type": "execute_result"
    }
   ],
   "source": [
    "leaky_relu(torch.rand(10))"
   ]
  },
  {
   "cell_type": "markdown",
   "id": "5fdd0472",
   "metadata": {},
   "source": [
    "### Plot"
   ]
  },
  {
   "cell_type": "code",
   "execution_count": 33,
   "id": "00c27c90",
   "metadata": {},
   "outputs": [
    {
     "data": {
      "image/png": "[encoded data removed]",
      "text/plain": [
       "<Figure size 432x288 with 1 Axes>"
      ]
     },
     "metadata": {
      "needs_background": "light"
     },
     "output_type": "display_data"
    }
   ],
   "source": [
    "fig, ax = plt.subplots()\n",
    "ax.plot(x, tensor2numpy(leaky_relu, x), linewidth=2.5)\n",
    "plt.xlabel(\"x\")\n",
    "plt.ylabel(\"y\") \n",
    "plt.title(\"Leaky ReLU\")\n",
    "# ax.set_aspect('equal')\n",
    "ax.grid(True, which='both')\n",
    "ax.axhline(y=0, color='k', linewidth=1.2)\n",
    "ax.axvline(x=0, color='k', linewidth=1.2)\n",
    "ax.xaxis.tick_bottom()\n",
    "ax.yaxis.tick_left()\n",
    "plt.show()"
   ]
  },
  {
   "cell_type": "markdown",
   "id": "d0b9e15c",
   "metadata": {},
   "source": [
    "## GeLU"
   ]
  },
  {
   "cell_type": "code",
   "execution_count": 34,
   "id": "42772aee",
   "metadata": {},
   "outputs": [],
   "source": [
    "gelu = nn.GELU()"
   ]
  },
  {
   "cell_type": "code",
   "execution_count": 44,
   "id": "208e621d",
   "metadata": {},
   "outputs": [
    {
     "data": {
      "text/plain": [
       "tensor([0.3004, 0.2480, 0.5337, 0.0584, 0.7281, 0.3740, 0.0836, 0.5389, 0.2883,\n",
       "        0.4126])"
      ]
     },
     "execution_count": 44,
     "metadata": {},
     "output_type": "execute_result"
    }
   ],
   "source": [
    "gelu(torch.rand(10))"
   ]
  },
  {
   "cell_type": "code",
   "execution_count": 35,
   "id": "ecdad4b4",
   "metadata": {},
   "outputs": [
    {
     "data": {
      "image/png": "[encoded data removed]",
      "text/plain": [
       "<Figure size 432x288 with 1 Axes>"
      ]
     },
     "metadata": {
      "needs_background": "light"
     },
     "output_type": "display_data"
    }
   ],
   "source": [
    "fig, ax = plt.subplots()\n",
    "ax.plot(x, tensor2numpy(gelu, x), linewidth=2.5)\n",
    "plt.xlabel(\"x\")\n",
    "plt.ylabel(\"y\") \n",
    "plt.title(\"GeLU\")\n",
    "# ax.set_aspect('equal')\n",
    "ax.grid(True, which='both')\n",
    "ax.axhline(y=0, color='k', linewidth=1.2)\n",
    "ax.axvline(x=0, color='k', linewidth=1.2)\n",
    "ax.xaxis.tick_bottom()\n",
    "ax.yaxis.tick_left()\n",
    "plt.show()"
   ]
  },
  {
   "cell_type": "code",
   "execution_count": null,
   "id": "0513648e",
   "metadata": {},
   "outputs": [],
   "source": []
  }
 ],
 "metadata": {
  "kernelspec": {
   "display_name": "Python 3 (ipykernel)",
   "language": "python",
   "name": "python3"
  },
  "language_info": {
   "codemirror_mode": {
    "name": "ipython",
    "version": 3
   },
   "file_extension": ".py",
   "mimetype": "text/x-python",
   "name": "python",
   "nbconvert_exporter": "python",
   "pygments_lexer": "ipython3",
   "version": "3.11.5"
  }
 },
 "nbformat": 4,
 "nbformat_minor": 5
}
