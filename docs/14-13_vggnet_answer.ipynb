{
 "cells": [
  {
   "cell_type": "code",
   "execution_count": 1,
   "metadata": {},
   "outputs": [],
   "source": [
    "# Copyright 2023, Acadential, All rights reserved."
   ]
  },
  {
   "cell_type": "markdown",
   "metadata": {},
   "source": [
    "# 14-13. PyTorch로 구현된 VGGNet 뜯어보기\n",
    "이번 시간에는 VGGNet을 뜯어보도록 하겠습니다. \\\n",
    "간단하게 VGGNet의 특징을 정리하면 다음과 같습니다.\n",
    "- VGGNet은 2014년 ILSVRC에서 2위를 차지한 모델로, 1위를 차지한 GoogLeNet과는 다르게 굉장히 간단한 구조를 가지고 있습니다.\n",
    "- VGGNet은 3x3의 작은 필터를 사용하여 깊이를 늘려가는 방식을 사용하였습니다.\n",
    "- 이는 11x11이나 7x7의 큰 필터를 사용하는 것보다 깊이가 깊어지는 것이 더 좋은 성능을 보여주었기 때문입니다. VGGNet은 3x3의 작은 필터를 사용하면서도 GoogLeNet보다 더 깊은 구조를 가지고 있습니다.\n",
    "- 이는 VGGNet이 GoogLeNet보다 더 많은 파라미터를 가지고 있기 때문입니다.\n",
    "- VGGNet은 16개의 레이어를 가지고 있으며, 이는 13개의 컨볼루션 레이어와 3개의 Fully Connected 레이어로 구성되어 있습니다.\n",
    "\n",
    "Torchvision에서 제공되는 VGGNet 모델은 다음과 같습니다:\n",
    "- \"vgg11\"\n",
    "- \"vgg11_bn\"\n",
    "- \"vgg13\"\n",
    "- \"vgg13_bn\"\n",
    "- \"vgg16\"\n",
    "- \"vgg16_bn\"\n",
    "- \"vgg19\"\n",
    "- \"vgg19_bn\"\n",
    "\n",
    "뒤에 붙은 숫자는 Layer개수이고, bn은 Batch Normalization을 사용한 것을 의미합니다.\n",
    "\n"
   ]
  },
  {
   "cell_type": "code",
   "execution_count": 2,
   "metadata": {},
   "outputs": [],
   "source": [
    "from torchvision.models import (vgg11,\n",
    "                                vgg11_bn,\n",
    "                                vgg13)\n",
    "from torchsummary import summary "
   ]
  },
  {
   "cell_type": "markdown",
   "metadata": {},
   "source": [
    "## VGG11"
   ]
  },
  {
   "cell_type": "code",
   "execution_count": 3,
   "metadata": {},
   "outputs": [],
   "source": [
    "from torchvision.models import vgg11,\n",
    "\n",
    "# 예를 들어서 vgg11 모델을 불러오는 코드는 다음과 같습니다.\n",
    "model = vgg11()"
   ]
  },
  {
   "cell_type": "code",
   "execution_count": 4,
   "metadata": {},
   "outputs": [
    {
     "name": "stdout",
     "output_type": "stream",
     "text": [
      "----------------------------------------------------------------\n",
      "        Layer (type)               Output Shape         Param #\n",
      "================================================================\n",
      "            Conv2d-1           [-1, 64, 64, 64]           1,792\n",
      "              ReLU-2           [-1, 64, 64, 64]               0\n",
      "         MaxPool2d-3           [-1, 64, 32, 32]               0\n",
      "            Conv2d-4          [-1, 128, 32, 32]          73,856\n",
      "              ReLU-5          [-1, 128, 32, 32]               0\n",
      "         MaxPool2d-6          [-1, 128, 16, 16]               0\n",
      "            Conv2d-7          [-1, 256, 16, 16]         295,168\n",
      "              ReLU-8          [-1, 256, 16, 16]               0\n",
      "            Conv2d-9          [-1, 256, 16, 16]         590,080\n",
      "             ReLU-10          [-1, 256, 16, 16]               0\n",
      "        MaxPool2d-11            [-1, 256, 8, 8]               0\n",
      "           Conv2d-12            [-1, 512, 8, 8]       1,180,160\n",
      "             ReLU-13            [-1, 512, 8, 8]               0\n",
      "           Conv2d-14            [-1, 512, 8, 8]       2,359,808\n",
      "             ReLU-15            [-1, 512, 8, 8]               0\n",
      "        MaxPool2d-16            [-1, 512, 4, 4]               0\n",
      "           Conv2d-17            [-1, 512, 4, 4]       2,359,808\n",
      "             ReLU-18            [-1, 512, 4, 4]               0\n",
      "           Conv2d-19            [-1, 512, 4, 4]       2,359,808\n",
      "             ReLU-20            [-1, 512, 4, 4]               0\n",
      "        MaxPool2d-21            [-1, 512, 2, 2]               0\n",
      "AdaptiveAvgPool2d-22            [-1, 512, 7, 7]               0\n",
      "           Linear-23                 [-1, 4096]     102,764,544\n",
      "             ReLU-24                 [-1, 4096]               0\n",
      "          Dropout-25                 [-1, 4096]               0\n",
      "           Linear-26                 [-1, 4096]      16,781,312\n",
      "             ReLU-27                 [-1, 4096]               0\n",
      "          Dropout-28                 [-1, 4096]               0\n",
      "           Linear-29                 [-1, 1000]       4,097,000\n",
      "================================================================\n",
      "Total params: 132,863,336\n",
      "Trainable params: 132,863,336\n",
      "Non-trainable params: 0\n",
      "----------------------------------------------------------------\n",
      "Input size (MB): 0.05\n",
      "Forward/backward pass size (MB): 10.59\n",
      "Params size (MB): 506.83\n",
      "Estimated Total Size (MB): 517.47\n",
      "----------------------------------------------------------------\n"
     ]
    }
   ],
   "source": [
    "summary(model, (3, 64, 64))"
   ]
  },
  {
   "cell_type": "markdown",
   "metadata": {},
   "source": [
    "## VGG11_BN"
   ]
  },
  {
   "cell_type": "code",
   "execution_count": 5,
   "metadata": {},
   "outputs": [],
   "source": [
    "# 예를 들어서 vgg11_bn 모델을 불러오는 코드는 다음과 같습니다.\n",
    "model = vgg11_bn()"
   ]
  },
  {
   "cell_type": "code",
   "execution_count": 6,
   "metadata": {},
   "outputs": [
    {
     "name": "stdout",
     "output_type": "stream",
     "text": [
      "----------------------------------------------------------------\n",
      "        Layer (type)               Output Shape         Param #\n",
      "================================================================\n",
      "            Conv2d-1           [-1, 64, 64, 64]           1,792\n",
      "       BatchNorm2d-2           [-1, 64, 64, 64]             128\n",
      "              ReLU-3           [-1, 64, 64, 64]               0\n",
      "         MaxPool2d-4           [-1, 64, 32, 32]               0\n",
      "            Conv2d-5          [-1, 128, 32, 32]          73,856\n",
      "       BatchNorm2d-6          [-1, 128, 32, 32]             256\n",
      "              ReLU-7          [-1, 128, 32, 32]               0\n",
      "         MaxPool2d-8          [-1, 128, 16, 16]               0\n",
      "            Conv2d-9          [-1, 256, 16, 16]         295,168\n",
      "      BatchNorm2d-10          [-1, 256, 16, 16]             512\n",
      "             ReLU-11          [-1, 256, 16, 16]               0\n",
      "           Conv2d-12          [-1, 256, 16, 16]         590,080\n",
      "      BatchNorm2d-13          [-1, 256, 16, 16]             512\n",
      "             ReLU-14          [-1, 256, 16, 16]               0\n",
      "        MaxPool2d-15            [-1, 256, 8, 8]               0\n",
      "           Conv2d-16            [-1, 512, 8, 8]       1,180,160\n",
      "      BatchNorm2d-17            [-1, 512, 8, 8]           1,024\n",
      "             ReLU-18            [-1, 512, 8, 8]               0\n",
      "           Conv2d-19            [-1, 512, 8, 8]       2,359,808\n",
      "      BatchNorm2d-20            [-1, 512, 8, 8]           1,024\n",
      "             ReLU-21            [-1, 512, 8, 8]               0\n",
      "        MaxPool2d-22            [-1, 512, 4, 4]               0\n",
      "           Conv2d-23            [-1, 512, 4, 4]       2,359,808\n",
      "      BatchNorm2d-24            [-1, 512, 4, 4]           1,024\n",
      "             ReLU-25            [-1, 512, 4, 4]               0\n",
      "           Conv2d-26            [-1, 512, 4, 4]       2,359,808\n",
      "      BatchNorm2d-27            [-1, 512, 4, 4]           1,024\n",
      "             ReLU-28            [-1, 512, 4, 4]               0\n",
      "        MaxPool2d-29            [-1, 512, 2, 2]               0\n",
      "AdaptiveAvgPool2d-30            [-1, 512, 7, 7]               0\n",
      "           Linear-31                 [-1, 4096]     102,764,544\n",
      "             ReLU-32                 [-1, 4096]               0\n",
      "          Dropout-33                 [-1, 4096]               0\n",
      "           Linear-34                 [-1, 4096]      16,781,312\n",
      "             ReLU-35                 [-1, 4096]               0\n",
      "          Dropout-36                 [-1, 4096]               0\n",
      "           Linear-37                 [-1, 1000]       4,097,000\n",
      "================================================================\n",
      "Total params: 132,868,840\n",
      "Trainable params: 132,868,840\n",
      "Non-trainable params: 0\n",
      "----------------------------------------------------------------\n",
      "Input size (MB): 0.05\n",
      "Forward/backward pass size (MB): 15.21\n",
      "Params size (MB): 506.85\n",
      "Estimated Total Size (MB): 522.12\n",
      "----------------------------------------------------------------\n"
     ]
    }
   ],
   "source": [
    "summary(model, (3, 64, 64))"
   ]
  },
  {
   "cell_type": "markdown",
   "metadata": {},
   "source": [
    "## VGG13"
   ]
  },
  {
   "cell_type": "code",
   "execution_count": 7,
   "metadata": {},
   "outputs": [],
   "source": [
    "# 예를 들어서 vgg11_bn 모델을 불러오는 코드는 다음과 같습니다.\n",
    "model = vgg13()"
   ]
  },
  {
   "cell_type": "code",
   "execution_count": 8,
   "metadata": {},
   "outputs": [
    {
     "name": "stdout",
     "output_type": "stream",
     "text": [
      "----------------------------------------------------------------\n",
      "        Layer (type)               Output Shape         Param #\n",
      "================================================================\n",
      "            Conv2d-1           [-1, 64, 64, 64]           1,792\n",
      "              ReLU-2           [-1, 64, 64, 64]               0\n",
      "            Conv2d-3           [-1, 64, 64, 64]          36,928\n",
      "              ReLU-4           [-1, 64, 64, 64]               0\n",
      "         MaxPool2d-5           [-1, 64, 32, 32]               0\n",
      "            Conv2d-6          [-1, 128, 32, 32]          73,856\n",
      "              ReLU-7          [-1, 128, 32, 32]               0\n",
      "            Conv2d-8          [-1, 128, 32, 32]         147,584\n",
      "              ReLU-9          [-1, 128, 32, 32]               0\n",
      "        MaxPool2d-10          [-1, 128, 16, 16]               0\n",
      "           Conv2d-11          [-1, 256, 16, 16]         295,168\n",
      "             ReLU-12          [-1, 256, 16, 16]               0\n",
      "           Conv2d-13          [-1, 256, 16, 16]         590,080\n",
      "             ReLU-14          [-1, 256, 16, 16]               0\n",
      "        MaxPool2d-15            [-1, 256, 8, 8]               0\n",
      "           Conv2d-16            [-1, 512, 8, 8]       1,180,160\n",
      "             ReLU-17            [-1, 512, 8, 8]               0\n",
      "           Conv2d-18            [-1, 512, 8, 8]       2,359,808\n",
      "             ReLU-19            [-1, 512, 8, 8]               0\n",
      "        MaxPool2d-20            [-1, 512, 4, 4]               0\n",
      "           Conv2d-21            [-1, 512, 4, 4]       2,359,808\n",
      "             ReLU-22            [-1, 512, 4, 4]               0\n",
      "           Conv2d-23            [-1, 512, 4, 4]       2,359,808\n",
      "             ReLU-24            [-1, 512, 4, 4]               0\n",
      "        MaxPool2d-25            [-1, 512, 2, 2]               0\n",
      "AdaptiveAvgPool2d-26            [-1, 512, 7, 7]               0\n",
      "           Linear-27                 [-1, 4096]     102,764,544\n",
      "             ReLU-28                 [-1, 4096]               0\n",
      "          Dropout-29                 [-1, 4096]               0\n",
      "           Linear-30                 [-1, 4096]      16,781,312\n",
      "             ReLU-31                 [-1, 4096]               0\n",
      "          Dropout-32                 [-1, 4096]               0\n",
      "           Linear-33                 [-1, 1000]       4,097,000\n",
      "================================================================\n",
      "Total params: 133,047,848\n",
      "Trainable params: 133,047,848\n",
      "Non-trainable params: 0\n",
      "----------------------------------------------------------------\n",
      "Input size (MB): 0.05\n",
      "Forward/backward pass size (MB): 16.59\n",
      "Params size (MB): 507.54\n",
      "Estimated Total Size (MB): 524.17\n",
      "----------------------------------------------------------------\n"
     ]
    }
   ],
   "source": [
    "summary(model, (3, 64, 64))"
   ]
  },
  {
   "cell_type": "markdown",
   "metadata": {},
   "source": [
    "# Section 14 Slide의 Appendix 참고!"
   ]
  },
  {
   "cell_type": "markdown",
   "metadata": {},
   "source": [
    "Appendix에 한 눈에 차이점을 파악할 수 있도록 정리해두었습니다!\n",
    "\n",
    "그리고 각 vgg 모델이 pytorch로 구현하는 코드는 src/vgg.py에 있습니다. 이 코드는 torchvision.model.vgg를 참고하여 작성하였습니다."
   ]
  },
  {
   "cell_type": "code",
   "execution_count": null,
   "metadata": {},
   "outputs": [],
   "source": []
  }
 ],
 "metadata": {
  "kernelspec": {
   "display_name": "Python 3 (ipykernel)",
   "language": "python",
   "name": "python3"
  },
  "language_info": {
   "codemirror_mode": {
    "name": "ipython",
    "version": 3
   },
   "file_extension": ".py",
   "mimetype": "text/x-python",
   "name": "python",
   "nbconvert_exporter": "python",
   "pygments_lexer": "ipython3",
   "version": "3.11.5"
  }
 },
 "nbformat": 4,
 "nbformat_minor": 4
}
