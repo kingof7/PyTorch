{
 "cells": [
  {
   "cell_type": "code",
   "execution_count": null,
   "metadata": {},
   "outputs": [],
   "source": [
    "# Copyright 2023, Acadential, All rights reserved."
   ]
  },
  {
   "cell_type": "markdown",
   "metadata": {
    "id": "6xW_WgVFYQXr"
   },
   "source": [
    "# 12-6. Initialization"
   ]
  },
  {
   "cell_type": "markdown",
   "metadata": {
    "id": "OHU8a4wGYQXt"
   },
   "source": [
    "이번 시간에는 CIFAR 10 데이터셋에 대해서 학습하는 부분이 포함되어 있는데, CIFAR 10 데이터셋에 학습시키려면 CPU상에서는 시간이 오래 소요되므로 GPU를 사용하는 것을 권장합니다. \\\n",
    "GPU를 사용해서 실습을 진행하기 위해서 저희는 Google Colab에서 실행해보도록 하겠습니다."
   ]
  },
  {
   "cell_type": "markdown",
   "metadata": {
    "id": "H8z1MzvrYQXu"
   },
   "source": [
    "저희는 Initialization 방법으로 다음과 같은 방법들을 살펴보았습니다:\n",
    "\n",
    "1. Random Initialization \\\n",
    "    a. Xavier Initialization: Sigmoid, Tanh 활성화 함수에 대해서 사용됩니다. \\\n",
    "    b. Kaiming (He) Initialization:  ReLU 활성화 함수에 대해서 사용됩니다.\n",
    "\n",
    "\n",
    "2. Initialization by Transfer Learning \\\n",
    "    즉, 전이 학습을 통한 Initialization\n",
    "\n"
   ]
  },
  {
   "cell_type": "markdown",
   "metadata": {},
   "source": [
    "# Google Drive을 Colab에 Mount하기"
   ]
  },
  {
   "cell_type": "code",
   "execution_count": 1,
   "metadata": {
    "colab": {
     "base_uri": "https://localhost:8080/"
    },
    "executionInfo": {
     "elapsed": 2403,
     "status": "ok",
     "timestamp": 1691841568133,
     "user": {
      "displayName": "jeung byun",
      "userId": "00523924071807328658"
     },
     "user_tz": -540
    },
    "id": "F8SYG7XEYSBU",
    "outputId": "87dba9c0-709f-4dcf-9dff-77a7062012e7"
   },
   "outputs": [
    {
     "name": "stdout",
     "output_type": "stream",
     "text": [
      "Drive already mounted at /content/drive; to attempt to forcibly remount, call drive.mount(\"/content/drive\", force_remount=True).\n"
     ]
    }
   ],
   "source": [
    "from google.colab import drive\n",
    "import os\n",
    "drive.mount('/content/drive')\n"
   ]
  },
  {
   "cell_type": "code",
   "execution_count": 2,
   "metadata": {
    "executionInfo": {
     "elapsed": 2,
     "status": "ok",
     "timestamp": 1691841568133,
     "user": {
      "displayName": "jeung byun",
      "userId": "00523924071807328658"
     },
     "user_tz": -540
    },
    "id": "rf9u_hv_YvzR"
   },
   "outputs": [],
   "source": [
    "os.chdir(\"/content/drive/MyDrive/Lesson/인프런 강의 - 딥러닝 이론 실무 완전 정복/practicals/section_12/\")"
   ]
  },
  {
   "cell_type": "markdown",
   "metadata": {
    "id": "-ZZ3YlNCYQXu"
   },
   "source": [
    "# Random Initialization\n",
    "\n",
    "## Xavier Initialization\n",
    "\n",
    "Sigmoid, Tanh 활성화 함수를 사용할 때 적합한 초기화 방법입니다."
   ]
  },
  {
   "cell_type": "code",
   "execution_count": 3,
   "metadata": {
    "executionInfo": {
     "elapsed": 3971,
     "status": "ok",
     "timestamp": 1691841572102,
     "user": {
      "displayName": "jeung byun",
      "userId": "00523924071807328658"
     },
     "user_tz": -540
    },
    "id": "bLoRDiwqYQXu"
   },
   "outputs": [],
   "source": [
    "import torch\n",
    "from torch import nn\n",
    "\n",
    "layer = nn.Linear(32, 16)\n",
    "_ = torch.nn.init.xavier_normal_(layer.weight)  # inplace operation"
   ]
  },
  {
   "cell_type": "markdown",
   "metadata": {
    "id": "ouDQceBtYQXv"
   },
   "source": [
    "## Kaiming (He) Initialization\n",
    "\n",
    "ReLU 활성화 함수를 사용할 때 적합한 초기화 방법입니다."
   ]
  },
  {
   "cell_type": "code",
   "execution_count": 4,
   "metadata": {
    "executionInfo": {
     "elapsed": 10,
     "status": "ok",
     "timestamp": 1691841572103,
     "user": {
      "displayName": "jeung byun",
      "userId": "00523924071807328658"
     },
     "user_tz": -540
    },
    "id": "wVAuZMBeYQXv"
   },
   "outputs": [],
   "source": [
    "layer = nn.Linear(32, 16)\n",
    "_ = torch.nn.init.kaiming_normal_(layer.weight)  # inplace operation"
   ]
  },
  {
   "cell_type": "markdown",
   "metadata": {
    "id": "3GJj7W-vYQXw"
   },
   "source": [
    "## 기타 Random Initialization"
   ]
  },
  {
   "cell_type": "code",
   "execution_count": 5,
   "metadata": {
    "executionInfo": {
     "elapsed": 10,
     "status": "ok",
     "timestamp": 1691841572103,
     "user": {
      "displayName": "jeung byun",
      "userId": "00523924071807328658"
     },
     "user_tz": -540
    },
    "id": "Zdu_VcXFYQXw"
   },
   "outputs": [],
   "source": [
    "layer = nn.Linear(32, 16)\n",
    "\n",
    "# Uniform\n",
    "_ = torch.nn.init.uniform_(layer.weight, a=-1.0, b=1.0)\n",
    "\n",
    "# Normal\n",
    "_ = torch.nn.init.normal_(layer.weight)"
   ]
  },
  {
   "cell_type": "markdown",
   "metadata": {
    "id": "grvX13tnYQXw"
   },
   "source": [
    "# 기존의 Neural Network 구현 코드"
   ]
  },
  {
   "cell_type": "markdown",
   "metadata": {
    "id": "F8NB2is7YQXw"
   },
   "source": [
    "\n",
    "기존에 저희가 Section 9에서는 Neural Network 모델을 다음과 같이 구현하였습니다."
   ]
  },
  {
   "cell_type": "code",
   "execution_count": 6,
   "metadata": {
    "executionInfo": {
     "elapsed": 9,
     "status": "ok",
     "timestamp": 1691841572103,
     "user": {
      "displayName": "jeung byun",
      "userId": "00523924071807328658"
     },
     "user_tz": -540
    },
    "id": "vm8sWvjSYQXw"
   },
   "outputs": [],
   "source": [
    "import torch\n",
    "from torch import nn\n",
    "\n",
    "\n",
    "# 위 방법처럼도 구현할 수 있으나, 더 간단하게 nn.Sequential로 구현할 수 있다.\n",
    "class NeuralNetwork(nn.Module):\n",
    "    def __init__(self):\n",
    "        super(NeuralNetwork, self).__init__()\n",
    "        # Neural Network을 구성하는 layer들을\n",
    "        # initialize하는 부분\n",
    "        self.fc_layers = nn.Sequential(\n",
    "            nn.Linear(784, 784 // 4),\n",
    "            nn.ReLU(),\n",
    "            nn.Linear(784 // 4, 784 // 16),\n",
    "            nn.ReLU(),\n",
    "            nn.Linear(784 // 16, 10),\n",
    "            nn.Sigmoid(),\n",
    "        )\n",
    "\n",
    "    def forward(self, x):\n",
    "        # Neural Network의 forward pass을 정의하는 부분\n",
    "        # x은 input tensor\n",
    "        x = torch.flatten(x, start_dim=1)\n",
    "        x = self.fc_layers(x)\n",
    "        return x\n"
   ]
  },
  {
   "cell_type": "markdown",
   "metadata": {
    "id": "-YTVCY3pYQXx"
   },
   "source": [
    "참고로, nn.Linear에 대한 PyTorch 공식 [Source Code](https://pytorch.org/docs/stable/_modules/torch/nn/modules/linear.html#Linear)을 보시면 ```reset_parameters```이라는 method가 있고 ```__init__``` 함수 안에서 수행되는 것을 확인할 수 있습니다. 그리고 ```reset_parameters``` method은 weight을 nn.init.kaiming_uniform_로 초기화하는 것을 확인할 수 있습니다.\n",
    "\n",
    "즉, PyTorch에서는 기본적으로 nn.Linear의 weight을 Kaiming Initialization으로 초기화해줍니다."
   ]
  },
  {
   "cell_type": "code",
   "execution_count": 7,
   "metadata": {
    "executionInfo": {
     "elapsed": 9,
     "status": "ok",
     "timestamp": 1691841572103,
     "user": {
      "displayName": "jeung byun",
      "userId": "00523924071807328658"
     },
     "user_tz": -540
    },
    "id": "G8yRp1-oYQXx"
   },
   "outputs": [],
   "source": [
    "model = NeuralNetwork()"
   ]
  },
  {
   "cell_type": "code",
   "execution_count": 8,
   "metadata": {
    "colab": {
     "base_uri": "https://localhost:8080/"
    },
    "executionInfo": {
     "elapsed": 9,
     "status": "ok",
     "timestamp": 1691841572103,
     "user": {
      "displayName": "jeung byun",
      "userId": "00523924071807328658"
     },
     "user_tz": -540
    },
    "id": "9f5BiuojYQXx",
    "outputId": "4c75f01c-f1c4-4f3e-fe0b-c542826d1204"
   },
   "outputs": [
    {
     "data": {
      "text/plain": [
       "Parameter containing:\n",
       "tensor([[ 0.0043, -0.0294,  0.0336,  ..., -0.0339, -0.0009,  0.0069],\n",
       "        [ 0.0268, -0.0355,  0.0054,  ...,  0.0317,  0.0268,  0.0111],\n",
       "        [-0.0332, -0.0341,  0.0351,  ...,  0.0174, -0.0168, -0.0054],\n",
       "        ...,\n",
       "        [ 0.0229, -0.0306,  0.0323,  ...,  0.0257, -0.0298, -0.0044],\n",
       "        [ 0.0324,  0.0336,  0.0079,  ...,  0.0336, -0.0326,  0.0143],\n",
       "        [ 0.0208, -0.0352, -0.0345,  ..., -0.0323,  0.0319, -0.0062]],\n",
       "       requires_grad=True)"
      ]
     },
     "execution_count": 8,
     "metadata": {},
     "output_type": "execute_result"
    }
   ],
   "source": [
    "# Initialize된 모델의 parameter을 살펴봅시다.\n",
    "next(iter(model.parameters()))"
   ]
  },
  {
   "cell_type": "markdown",
   "metadata": {
    "id": "fRVMZQFPYQXx"
   },
   "source": [
    "보시다시피 별도로 Initialization하지 않아도 대부분 -1 ~ 1 사이의 Random한 값들로 초기화된 것을 확인할 수 있습니다. \\\n",
    "근데 만약에 명시적으로 Initialization을 하고 싶다면 어떻게 해야할까요? \\\n",
    "예를 들어서 각 Layer마다 조금씩 다르게 Initialization을 하고 싶다면 어떻게 해야할까요?"
   ]
  },
  {
   "cell_type": "markdown",
   "metadata": {
    "id": "-yom8aYmYQXx"
   },
   "source": [
    "## Initialization 적용해보기"
   ]
  },
  {
   "cell_type": "code",
   "execution_count": 9,
   "metadata": {
    "executionInfo": {
     "elapsed": 9,
     "status": "ok",
     "timestamp": 1691841572103,
     "user": {
      "displayName": "jeung byun",
      "userId": "00523924071807328658"
     },
     "user_tz": -540
    },
    "id": "ae0tgsSWYQXx"
   },
   "outputs": [],
   "source": [
    "import torch\n",
    "from torch import nn\n",
    "\n",
    "\n",
    "# 위 방법처럼도 구현할 수 있으나, 더 간단하게 nn.Sequential로 구현할 수 있습니다.\n",
    "class NeuralNetwork(nn.Module):\n",
    "    def __init__(self):\n",
    "        super(NeuralNetwork, self).__init__()\n",
    "        # Neural Network을 구성하는 layer들을\n",
    "        # initialize하는 부분\n",
    "        self.fc_layers = nn.Sequential(\n",
    "            nn.Linear(784, 784 // 4),  # Kaiming\n",
    "            nn.ReLU(),\n",
    "            nn.Linear(784 // 4, 784 // 16),  # Kaiming\n",
    "            nn.ReLU(),\n",
    "            nn.Linear(784 // 16, 10),  # Xavier\n",
    "            nn.Sigmoid(),\n",
    "        )\n",
    "\n",
    "        self._init_weights(self.fc_layers[0], mode='kaiming')\n",
    "        self._init_weights(self.fc_layers[1], mode='kaiming')\n",
    "        self._init_weights(self.fc_layers[2], mode='xavier')\n",
    "\n",
    "    def forward(self, x):\n",
    "        # Neural Network의 forward pass을 정의하는 부분\n",
    "        # x은 input tensor\n",
    "        x = torch.flatten(x, start_dim=1)\n",
    "        x = self.fc_layers(x)\n",
    "        return x\n",
    "\n",
    "    def _init_weights(self, module, mode='xavier'):\n",
    "        if isinstance(module, nn.Linear):\n",
    "            if mode == 'xavier':\n",
    "                torch.nn.init.xavier_normal_(module.weight)\n",
    "            elif mode == 'kaiming':\n",
    "                torch.nn.init.kaiming_normal_(module.weight)\n",
    "\n",
    "            if module.bias is not None:  # Bias에 대한 initialization\n",
    "                module.bias.data.zero_()\n"
   ]
  },
  {
   "cell_type": "code",
   "execution_count": 10,
   "metadata": {
    "executionInfo": {
     "elapsed": 10,
     "status": "ok",
     "timestamp": 1691841572104,
     "user": {
      "displayName": "jeung byun",
      "userId": "00523924071807328658"
     },
     "user_tz": -540
    },
    "id": "FsnCWckpYQXx"
   },
   "outputs": [],
   "source": [
    "model = NeuralNetwork()"
   ]
  },
  {
   "cell_type": "markdown",
   "metadata": {
    "id": "MbzcmqJZYQXx"
   },
   "source": [
    "# Initialization by Transfer Learning"
   ]
  },
  {
   "cell_type": "markdown",
   "metadata": {
    "id": "YgdyIVaNYQXx"
   },
   "source": [
    "Random Initialization에 이어서 Transfer Learning을 통한 initialization도 살펴보도록 하겠습니다. \\\n",
    "Torchvision에서는 다양한 pre-trained model을 제공하고 있습니다. \\\n",
    "예를 들어서 ImageNet에 대해서 Pre-trained된 Image Classification 모델인 VGG, ResNet 등등 다양한 모델들이 있습니다.\n",
    "\n",
    "1. (Torchvision을 사용해서) Pre-trained된 모델의 weight 가져오기\n",
    "2. Pre-trained된 모델의 weight 일부분만 가져오기"
   ]
  },
  {
   "cell_type": "code",
   "execution_count": 11,
   "metadata": {
    "executionInfo": {
     "elapsed": 1580,
     "status": "ok",
     "timestamp": 1691841573674,
     "user": {
      "displayName": "jeung byun",
      "userId": "00523924071807328658"
     },
     "user_tz": -540
    },
    "id": "dD5qewQJYQXx"
   },
   "outputs": [],
   "source": [
    "import torchvision\n",
    "import os"
   ]
  },
  {
   "cell_type": "code",
   "execution_count": 12,
   "metadata": {
    "executionInfo": {
     "elapsed": 5855,
     "status": "ok",
     "timestamp": 1691841579528,
     "user": {
      "displayName": "jeung byun",
      "userId": "00523924071807328658"
     },
     "user_tz": -540
    },
    "id": "kwPsXLp_YQXy"
   },
   "outputs": [],
   "source": [
    "# ResNet50\n",
    "\n",
    "from torchvision.models import resnet50, ResNet50_Weights\n",
    "\n",
    "# Old weights with accuracy 76.130%\n",
    "resnet50_v1 = resnet50(weights=ResNet50_Weights.IMAGENET1K_V1)\n",
    "\n",
    "# New weights with accuracy 80.858%\n",
    "resnet50_v2 = resnet50(weights=ResNet50_Weights.IMAGENET1K_V2)\n",
    "\n",
    "# Best available weights (currently alias for IMAGENET1K_V2)\n",
    "# Note that these weights may change across versions\n",
    "resnet_best = resnet50(weights=ResNet50_Weights.DEFAULT)\n",
    "\n",
    "# No weights - random initialization\n",
    "resnet50_random_init = resnet50(weights=None)"
   ]
  },
  {
   "cell_type": "markdown",
   "metadata": {
    "id": "HZtHVf3lYQXy"
   },
   "source": [
    "위 방법에서 초기화된 ResNet50은 ImageNet1K에서 학습된 가중치를 사용하고 있습니다. \\\n",
    "이 가중치는 ImageNet1K의 1000개의 클래스를 분류하기 위해 학습된 가중치이기 때문에 우리가 사용하는 데이터셋과는 다른 클래스를 분류하기 위한 가중치입니다. \\\n",
    "따라서 이 가중치를 그대로 사용하는 것은 좋은 방법이 아닙니다. \\\n",
    "우리가 사용하는 데이터셋에 맞게 가중치를 초기화하는 방법을 알아보겠습니다."
   ]
  },
  {
   "cell_type": "code",
   "execution_count": 14,
   "metadata": {
    "colab": {
     "base_uri": "https://localhost:8080/"
    },
    "executionInfo": {
     "elapsed": 400,
     "status": "ok",
     "timestamp": 1691841579916,
     "user": {
      "displayName": "jeung byun",
      "userId": "00523924071807328658"
     },
     "user_tz": -540
    },
    "id": "kiukqU-LYQXy",
    "outputId": "1d4692a7-09b6-4145-dd00-ef6bdf829dea"
   },
   "outputs": [
    {
     "name": "stdout",
     "output_type": "stream",
     "text": [
      "Layers to filter out ['fc.weight', 'fc.bias']\n"
     ]
    },
    {
     "data": {
      "text/plain": [
       "_IncompatibleKeys(missing_keys=['fc.weight', 'fc.bias'], unexpected_keys=[])"
      ]
     },
     "execution_count": 14,
     "metadata": {},
     "output_type": "execute_result"
    }
   ],
   "source": [
    "# 예를 들어서 CIFAR-10 데이터셋을 사용한다고 가정해보겠습니다.\n",
    "# Random Initialized ResNet50 (for CIFAR10)\n",
    "resnet50_random_init = resnet50(num_classes=10, weights=None)\n",
    "\n",
    "# First Randomly Initialized ResNet50\n",
    "resnet50_pretrained = resnet50(num_classes=10, weights=None)\n",
    "\n",
    "# Replace weights with the pretrained ones\n",
    "layers_to_filter_out = []\n",
    "model_state_dict = resnet50_pretrained.state_dict()\n",
    "\n",
    "best_model_weight = resnet50_v2.state_dict()\n",
    "\n",
    "for layer in best_model_weight.keys():\n",
    "    if model_state_dict[layer].shape != best_model_weight[layer].shape:\n",
    "        layers_to_filter_out.append(layer)\n",
    "\n",
    "print(\"Layers to filter out\", layers_to_filter_out)\n",
    "for layer in layers_to_filter_out:\n",
    "    del best_model_weight[layer]\n",
    "\n",
    "resnet50_pretrained.load_state_dict(best_model_weight, strict=False)"
   ]
  },
  {
   "cell_type": "code",
   "execution_count": 15,
   "metadata": {
    "executionInfo": {
     "elapsed": 699,
     "status": "ok",
     "timestamp": 1691841580614,
     "user": {
      "displayName": "jeung byun",
      "userId": "00523924071807328658"
     },
     "user_tz": -540
    },
    "id": "e29o8HTaYQXy"
   },
   "outputs": [],
   "source": [
    "from src.cifar10 import get_dataloaders\n",
    "from src.train_val import train_loop, val_loop\n",
    "import matplotlib.pyplot as plt"
   ]
  },
  {
   "cell_type": "code",
   "execution_count": 16,
   "metadata": {
    "colab": {
     "base_uri": "https://localhost:8080/"
    },
    "executionInfo": {
     "elapsed": 3,
     "status": "ok",
     "timestamp": 1691841580614,
     "user": {
      "displayName": "jeung byun",
      "userId": "00523924071807328658"
     },
     "user_tz": -540
    },
    "id": "y1DzxTtAZRV5",
    "outputId": "c1401a1c-918f-479c-ae25-22159e498d18"
   },
   "outputs": [
    {
     "data": {
      "text/plain": [
       "device(type='cpu')"
      ]
     },
     "execution_count": 16,
     "metadata": {},
     "output_type": "execute_result"
    }
   ],
   "source": [
    "next(resnet50_random_init.parameters()).device # returns a boolean\n"
   ]
  },
  {
   "cell_type": "code",
   "execution_count": 17,
   "metadata": {
    "executionInfo": {
     "elapsed": 470,
     "status": "ok",
     "timestamp": 1691841581083,
     "user": {
      "displayName": "jeung byun",
      "userId": "00523924071807328658"
     },
     "user_tz": -540
    },
    "id": "-S0V7gY9Z9WE"
   },
   "outputs": [],
   "source": [
    "_ = resnet50_random_init.to(\"cuda\")"
   ]
  },
  {
   "cell_type": "code",
   "execution_count": 18,
   "metadata": {
    "colab": {
     "base_uri": "https://localhost:8080/"
    },
    "executionInfo": {
     "elapsed": 2,
     "status": "ok",
     "timestamp": 1691841581083,
     "user": {
      "displayName": "jeung byun",
      "userId": "00523924071807328658"
     },
     "user_tz": -540
    },
    "id": "TQY5CngraEIk",
    "outputId": "376ec8b8-9b99-4162-ce59-85e6fad1722b"
   },
   "outputs": [
    {
     "data": {
      "text/plain": [
       "device(type='cuda', index=0)"
      ]
     },
     "execution_count": 18,
     "metadata": {},
     "output_type": "execute_result"
    }
   ],
   "source": [
    "next(resnet50_random_init.parameters()).device # returns a boolean\n"
   ]
  },
  {
   "cell_type": "code",
   "execution_count": 19,
   "metadata": {
    "colab": {
     "base_uri": "https://localhost:8080/"
    },
    "executionInfo": {
     "elapsed": 3675,
     "status": "ok",
     "timestamp": 1691841584757,
     "user": {
      "displayName": "jeung byun",
      "userId": "00523924071807328658"
     },
     "user_tz": -540
    },
    "id": "0WFHUFrKYQXy",
    "outputId": "d76ed723-278a-4be3-e762-ca8eea577d63"
   },
   "outputs": [
    {
     "name": "stdout",
     "output_type": "stream",
     "text": [
      "Files already downloaded and verified\n",
      "Files already downloaded and verified\n"
     ]
    }
   ],
   "source": [
    "train_dataloader, test_dataloader = get_dataloaders()"
   ]
  },
  {
   "cell_type": "code",
   "execution_count": 20,
   "metadata": {
    "executionInfo": {
     "elapsed": 3,
     "status": "ok",
     "timestamp": 1691841584757,
     "user": {
      "displayName": "jeung byun",
      "userId": "00523924071807328658"
     },
     "user_tz": -540
    },
    "id": "tSSdkRBVYQXy"
   },
   "outputs": [],
   "source": [
    "loss_fn = nn.CrossEntropyLoss()"
   ]
  },
  {
   "cell_type": "code",
   "execution_count": 21,
   "metadata": {
    "colab": {
     "base_uri": "https://localhost:8080/"
    },
    "executionInfo": {
     "elapsed": 448871,
     "status": "ok",
     "timestamp": 1691842033625,
     "user": {
      "displayName": "jeung byun",
      "userId": "00523924071807328658"
     },
     "user_tz": -540
    },
    "id": "5n0NSnKAYQXy",
    "outputId": "306f98b1-532e-48b7-e431-91a9e37c029e"
   },
   "outputs": [
    {
     "name": "stdout",
     "output_type": "stream",
     "text": [
      "------------------Epoch 0 Train------------------\n"
     ]
    },
    {
     "name": "stderr",
     "output_type": "stream",
     "text": [
      "Train Loss: 2.3502: 100%|██████████| 782/782 [00:45<00:00, 17.01it/s]\n"
     ]
    },
    {
     "name": "stdout",
     "output_type": "stream",
     "text": [
      "------------------Epoch 0 Test------------------\n"
     ]
    },
    {
     "name": "stderr",
     "output_type": "stream",
     "text": [
      "Test Loss: 2.3478: 100%|██████████| 157/157 [00:05<00:00, 29.77it/s]\n"
     ]
    },
    {
     "name": "stdout",
     "output_type": "stream",
     "text": [
      "------------------Epoch 1 Train------------------\n"
     ]
    },
    {
     "name": "stderr",
     "output_type": "stream",
     "text": [
      "Train Loss: 2.4334: 100%|██████████| 782/782 [00:40<00:00, 19.46it/s]\n"
     ]
    },
    {
     "name": "stdout",
     "output_type": "stream",
     "text": [
      "------------------Epoch 1 Test------------------\n"
     ]
    },
    {
     "name": "stderr",
     "output_type": "stream",
     "text": [
      "Test Loss: 2.1772: 100%|██████████| 157/157 [00:04<00:00, 34.18it/s]\n"
     ]
    },
    {
     "name": "stdout",
     "output_type": "stream",
     "text": [
      "------------------Epoch 2 Train------------------\n"
     ]
    },
    {
     "name": "stderr",
     "output_type": "stream",
     "text": [
      "Train Loss: 2.0342: 100%|██████████| 782/782 [00:39<00:00, 19.59it/s]\n"
     ]
    },
    {
     "name": "stdout",
     "output_type": "stream",
     "text": [
      "------------------Epoch 2 Test------------------\n"
     ]
    },
    {
     "name": "stderr",
     "output_type": "stream",
     "text": [
      "Test Loss: 2.1499: 100%|██████████| 157/157 [00:04<00:00, 35.17it/s]\n"
     ]
    },
    {
     "name": "stdout",
     "output_type": "stream",
     "text": [
      "------------------Epoch 3 Train------------------\n"
     ]
    },
    {
     "name": "stderr",
     "output_type": "stream",
     "text": [
      "Train Loss: 2.4355: 100%|██████████| 782/782 [00:40<00:00, 19.25it/s]\n"
     ]
    },
    {
     "name": "stdout",
     "output_type": "stream",
     "text": [
      "------------------Epoch 3 Test------------------\n"
     ]
    },
    {
     "name": "stderr",
     "output_type": "stream",
     "text": [
      "Test Loss: 1.8185: 100%|██████████| 157/157 [00:04<00:00, 34.37it/s]\n"
     ]
    },
    {
     "name": "stdout",
     "output_type": "stream",
     "text": [
      "------------------Epoch 4 Train------------------\n"
     ]
    },
    {
     "name": "stderr",
     "output_type": "stream",
     "text": [
      "Train Loss: 2.2343: 100%|██████████| 782/782 [00:38<00:00, 20.08it/s]\n"
     ]
    },
    {
     "name": "stdout",
     "output_type": "stream",
     "text": [
      "------------------Epoch 4 Test------------------\n"
     ]
    },
    {
     "name": "stderr",
     "output_type": "stream",
     "text": [
      "Test Loss: 1.7907: 100%|██████████| 157/157 [00:04<00:00, 34.47it/s]\n"
     ]
    },
    {
     "name": "stdout",
     "output_type": "stream",
     "text": [
      "------------------Epoch 5 Train------------------\n"
     ]
    },
    {
     "name": "stderr",
     "output_type": "stream",
     "text": [
      "Train Loss: 1.8534: 100%|██████████| 782/782 [00:39<00:00, 20.05it/s]\n"
     ]
    },
    {
     "name": "stdout",
     "output_type": "stream",
     "text": [
      "------------------Epoch 5 Test------------------\n"
     ]
    },
    {
     "name": "stderr",
     "output_type": "stream",
     "text": [
      "Test Loss: 1.4725: 100%|██████████| 157/157 [00:04<00:00, 35.10it/s]\n"
     ]
    },
    {
     "name": "stdout",
     "output_type": "stream",
     "text": [
      "------------------Epoch 6 Train------------------\n"
     ]
    },
    {
     "name": "stderr",
     "output_type": "stream",
     "text": [
      "Train Loss: 2.0638: 100%|██████████| 782/782 [00:40<00:00, 19.42it/s]\n"
     ]
    },
    {
     "name": "stdout",
     "output_type": "stream",
     "text": [
      "------------------Epoch 6 Test------------------\n"
     ]
    },
    {
     "name": "stderr",
     "output_type": "stream",
     "text": [
      "Test Loss: 1.6136: 100%|██████████| 157/157 [00:04<00:00, 34.61it/s]\n"
     ]
    },
    {
     "name": "stdout",
     "output_type": "stream",
     "text": [
      "------------------Epoch 7 Train------------------\n"
     ]
    },
    {
     "name": "stderr",
     "output_type": "stream",
     "text": [
      "Train Loss: 1.6712: 100%|██████████| 782/782 [00:39<00:00, 20.02it/s]\n"
     ]
    },
    {
     "name": "stdout",
     "output_type": "stream",
     "text": [
      "------------------Epoch 7 Test------------------\n"
     ]
    },
    {
     "name": "stderr",
     "output_type": "stream",
     "text": [
      "Test Loss: 1.6236: 100%|██████████| 157/157 [00:04<00:00, 34.65it/s]\n"
     ]
    },
    {
     "name": "stdout",
     "output_type": "stream",
     "text": [
      "------------------Epoch 8 Train------------------\n"
     ]
    },
    {
     "name": "stderr",
     "output_type": "stream",
     "text": [
      "Train Loss: 1.3688: 100%|██████████| 782/782 [00:39<00:00, 19.88it/s]\n"
     ]
    },
    {
     "name": "stdout",
     "output_type": "stream",
     "text": [
      "------------------Epoch 8 Test------------------\n"
     ]
    },
    {
     "name": "stderr",
     "output_type": "stream",
     "text": [
      "Test Loss: 1.3610: 100%|██████████| 157/157 [00:04<00:00, 34.45it/s]\n"
     ]
    },
    {
     "name": "stdout",
     "output_type": "stream",
     "text": [
      "------------------Epoch 9 Train------------------\n"
     ]
    },
    {
     "name": "stderr",
     "output_type": "stream",
     "text": [
      "Train Loss: 2.4361: 100%|██████████| 782/782 [00:39<00:00, 19.98it/s]\n"
     ]
    },
    {
     "name": "stdout",
     "output_type": "stream",
     "text": [
      "------------------Epoch 9 Test------------------\n"
     ]
    },
    {
     "name": "stderr",
     "output_type": "stream",
     "text": [
      "Test Loss: 1.3875: 100%|██████████| 157/157 [00:04<00:00, 34.88it/s]\n"
     ]
    }
   ],
   "source": [
    "# Random Initialized ResNet50\n",
    "optimizer = torch.optim.SGD(resnet50_random_init.parameters(),\n",
    "                            lr=0.001)\n",
    "\n",
    "epochs = 10\n",
    "train_loss_history = []\n",
    "test_loss_history = []\n",
    "test_acc_history = []\n",
    "epochs = 10\n",
    "best_acc = 0.\n",
    "\n",
    "os.makedirs(\"checkpoints\", exist_ok=True)\n",
    "\n",
    "for epoch in range(epochs):\n",
    "    print(f\"------------------Epoch {epoch} Train------------------\")\n",
    "    train_losses = train_loop(resnet50_random_init, train_dataloader, loss_fn, optimizer)\n",
    "    train_loss_history.extend(train_losses)\n",
    "    print(f\"------------------Epoch {epoch} Test------------------\")\n",
    "    test_losses, test_acc = val_loop(resnet50_random_init, test_dataloader, loss_fn)\n",
    "    test_loss_history.append(test_losses)\n",
    "    test_acc_history.append(test_acc)\n",
    "    # if test_acc > best_acc:\n",
    "    #     best_acc = test_acc\n",
    "    #     torch.save(resnet50_random_init.state_dict(), \"checkpoints/best_model.pt\")"
   ]
  },
  {
   "cell_type": "code",
   "execution_count": null,
   "metadata": {},
   "outputs": [],
   "source": [
    "os.makedirs(\"figures\", exist_ok=True)"
   ]
  },
  {
   "cell_type": "code",
   "execution_count": 22,
   "metadata": {
    "colab": {
     "base_uri": "https://localhost:8080/",
     "height": 452
    },
    "executionInfo": {
     "elapsed": 20,
     "status": "ok",
     "timestamp": 1691842033625,
     "user": {
      "displayName": "jeung byun",
      "userId": "00523924071807328658"
     },
     "user_tz": -540
    },
    "id": "iS4twT4RYQXy",
    "outputId": "437f1a97-d870-4cae-c4c6-a11c40d79459"
   },
   "outputs": [
    {
     "data": {
      "image/png": "[encoded data removed]",
      "text/plain": [
       "<Figure size 640x480 with 1 Axes>"
      ]
     },
     "metadata": {},
     "output_type": "display_data"
    }
   ],
   "source": [
    "plt.figure()\n",
    "plt.plot(train_loss_history)\n",
    "plt.title('Train loss history (Resnet50 Random Initialization)')\n",
    "plt.savefig(\"figures/resnet50_random_init_train_loss.png\")"
   ]
  },
  {
   "cell_type": "code",
   "execution_count": 23,
   "metadata": {
    "colab": {
     "base_uri": "https://localhost:8080/",
     "height": 452
    },
    "executionInfo": {
     "elapsed": 613,
     "status": "ok",
     "timestamp": 1691842034235,
     "user": {
      "displayName": "jeung byun",
      "userId": "00523924071807328658"
     },
     "user_tz": -540
    },
    "id": "RxoEUlKIYQXy",
    "outputId": "bf80ecac-16fe-4ec5-e0ca-116d082f33cf"
   },
   "outputs": [
    {
     "data": {
      "image/png": "[encoded data removed]",
      "text/plain": [
       "<Figure size 640x480 with 1 Axes>"
      ]
     },
     "metadata": {},
     "output_type": "display_data"
    }
   ],
   "source": [
    "plt.figure()\n",
    "plt.plot(test_loss_history)\n",
    "plt.title('Test loss history (Resnet50 Random Initialization)')\n",
    "plt.savefig(\"figures/resnet50_random_init_test_loss.png\")"
   ]
  },
  {
   "cell_type": "code",
   "execution_count": 24,
   "metadata": {
    "colab": {
     "base_uri": "https://localhost:8080/",
     "height": 452
    },
    "executionInfo": {
     "elapsed": 11,
     "status": "ok",
     "timestamp": 1691842034235,
     "user": {
      "displayName": "jeung byun",
      "userId": "00523924071807328658"
     },
     "user_tz": -540
    },
    "id": "t2wt-n68YQXy",
    "outputId": "37caab3e-c40a-49f5-bccd-517630f8e1bf"
   },
   "outputs": [
    {
     "data": {
      "image/png": "[encoded data removed]",
      "text/plain": [
       "<Figure size 640x480 with 1 Axes>"
      ]
     },
     "metadata": {},
     "output_type": "display_data"
    }
   ],
   "source": [
    "plt.figure()\n",
    "plt.plot(test_acc_history)\n",
    "plt.title('Test accuracy history (Resnet50 Random Initialization)')\n",
    "plt.savefig(\"figures/resnet50_random_init_test_acc.png\")"
   ]
  },
  {
   "cell_type": "code",
   "execution_count": 25,
   "metadata": {
    "executionInfo": {
     "elapsed": 9,
     "status": "ok",
     "timestamp": 1691842034235,
     "user": {
      "displayName": "jeung byun",
      "userId": "00523924071807328658"
     },
     "user_tz": -540
    },
    "id": "sXfM9qcNdmu9"
   },
   "outputs": [],
   "source": [
    "_ = resnet50_pretrained.to(\"cuda\")"
   ]
  },
  {
   "cell_type": "code",
   "execution_count": 26,
   "metadata": {
    "colab": {
     "base_uri": "https://localhost:8080/"
    },
    "executionInfo": {
     "elapsed": 443296,
     "status": "ok",
     "timestamp": 1691842477522,
     "user": {
      "displayName": "jeung byun",
      "userId": "00523924071807328658"
     },
     "user_tz": -540
    },
    "id": "R5q6vpOGYQXy",
    "outputId": "aba1ce62-c5d0-41fd-d411-cd20d479bfe8"
   },
   "outputs": [
    {
     "name": "stdout",
     "output_type": "stream",
     "text": [
      "------------------Epoch 0 Train------------------\n"
     ]
    },
    {
     "name": "stderr",
     "output_type": "stream",
     "text": [
      "Train Loss: 2.2153: 100%|██████████| 782/782 [00:40<00:00, 19.40it/s]\n"
     ]
    },
    {
     "name": "stdout",
     "output_type": "stream",
     "text": [
      "------------------Epoch 0 Test------------------\n"
     ]
    },
    {
     "name": "stderr",
     "output_type": "stream",
     "text": [
      "Test Loss: 2.1969: 100%|██████████| 157/157 [00:04<00:00, 31.72it/s]\n"
     ]
    },
    {
     "name": "stdout",
     "output_type": "stream",
     "text": [
      "------------------Epoch 1 Train------------------\n"
     ]
    },
    {
     "name": "stderr",
     "output_type": "stream",
     "text": [
      "Train Loss: 1.7617: 100%|██████████| 782/782 [00:38<00:00, 20.24it/s]\n"
     ]
    },
    {
     "name": "stdout",
     "output_type": "stream",
     "text": [
      "------------------Epoch 1 Test------------------\n"
     ]
    },
    {
     "name": "stderr",
     "output_type": "stream",
     "text": [
      "Test Loss: 2.1371: 100%|██████████| 157/157 [00:05<00:00, 29.21it/s]\n"
     ]
    },
    {
     "name": "stdout",
     "output_type": "stream",
     "text": [
      "------------------Epoch 2 Train------------------\n"
     ]
    },
    {
     "name": "stderr",
     "output_type": "stream",
     "text": [
      "Train Loss: 1.0174: 100%|██████████| 782/782 [00:38<00:00, 20.38it/s]\n"
     ]
    },
    {
     "name": "stdout",
     "output_type": "stream",
     "text": [
      "------------------Epoch 2 Test------------------\n"
     ]
    },
    {
     "name": "stderr",
     "output_type": "stream",
     "text": [
      "Test Loss: 1.9003: 100%|██████████| 157/157 [00:05<00:00, 27.83it/s]\n"
     ]
    },
    {
     "name": "stdout",
     "output_type": "stream",
     "text": [
      "------------------Epoch 3 Train------------------\n"
     ]
    },
    {
     "name": "stderr",
     "output_type": "stream",
     "text": [
      "Train Loss: 1.1904: 100%|██████████| 782/782 [00:38<00:00, 20.38it/s]\n"
     ]
    },
    {
     "name": "stdout",
     "output_type": "stream",
     "text": [
      "------------------Epoch 3 Test------------------\n"
     ]
    },
    {
     "name": "stderr",
     "output_type": "stream",
     "text": [
      "Test Loss: 1.8411: 100%|██████████| 157/157 [00:05<00:00, 26.45it/s]\n"
     ]
    },
    {
     "name": "stdout",
     "output_type": "stream",
     "text": [
      "------------------Epoch 4 Train------------------\n"
     ]
    },
    {
     "name": "stderr",
     "output_type": "stream",
     "text": [
      "Train Loss: 0.8446: 100%|██████████| 782/782 [00:38<00:00, 20.57it/s]\n"
     ]
    },
    {
     "name": "stdout",
     "output_type": "stream",
     "text": [
      "------------------Epoch 4 Test------------------\n"
     ]
    },
    {
     "name": "stderr",
     "output_type": "stream",
     "text": [
      "Test Loss: 1.6967: 100%|██████████| 157/157 [00:06<00:00, 25.66it/s]\n"
     ]
    },
    {
     "name": "stdout",
     "output_type": "stream",
     "text": [
      "------------------Epoch 5 Train------------------\n"
     ]
    },
    {
     "name": "stderr",
     "output_type": "stream",
     "text": [
      "Train Loss: 1.6619: 100%|██████████| 782/782 [00:38<00:00, 20.57it/s]\n"
     ]
    },
    {
     "name": "stdout",
     "output_type": "stream",
     "text": [
      "------------------Epoch 5 Test------------------\n"
     ]
    },
    {
     "name": "stderr",
     "output_type": "stream",
     "text": [
      "Test Loss: 1.8392: 100%|██████████| 157/157 [00:06<00:00, 25.58it/s]\n"
     ]
    },
    {
     "name": "stdout",
     "output_type": "stream",
     "text": [
      "------------------Epoch 6 Train------------------\n"
     ]
    },
    {
     "name": "stderr",
     "output_type": "stream",
     "text": [
      "Train Loss: 1.2285: 100%|██████████| 782/782 [00:39<00:00, 20.01it/s]\n"
     ]
    },
    {
     "name": "stdout",
     "output_type": "stream",
     "text": [
      "------------------Epoch 6 Test------------------\n"
     ]
    },
    {
     "name": "stderr",
     "output_type": "stream",
     "text": [
      "Test Loss: 1.8810: 100%|██████████| 157/157 [00:05<00:00, 28.85it/s]\n"
     ]
    },
    {
     "name": "stdout",
     "output_type": "stream",
     "text": [
      "------------------Epoch 7 Train------------------\n"
     ]
    },
    {
     "name": "stderr",
     "output_type": "stream",
     "text": [
      "Train Loss: 1.3982: 100%|██████████| 782/782 [00:40<00:00, 19.53it/s]\n"
     ]
    },
    {
     "name": "stdout",
     "output_type": "stream",
     "text": [
      "------------------Epoch 7 Test------------------\n"
     ]
    },
    {
     "name": "stderr",
     "output_type": "stream",
     "text": [
      "Test Loss: 1.7884: 100%|██████████| 157/157 [00:05<00:00, 30.49it/s]\n"
     ]
    },
    {
     "name": "stdout",
     "output_type": "stream",
     "text": [
      "------------------Epoch 8 Train------------------\n"
     ]
    },
    {
     "name": "stderr",
     "output_type": "stream",
     "text": [
      "Train Loss: 0.8670: 100%|██████████| 782/782 [00:39<00:00, 19.99it/s]\n"
     ]
    },
    {
     "name": "stdout",
     "output_type": "stream",
     "text": [
      "------------------Epoch 8 Test------------------\n"
     ]
    },
    {
     "name": "stderr",
     "output_type": "stream",
     "text": [
      "Test Loss: 1.6569: 100%|██████████| 157/157 [00:04<00:00, 32.40it/s]\n"
     ]
    },
    {
     "name": "stdout",
     "output_type": "stream",
     "text": [
      "------------------Epoch 9 Train------------------\n"
     ]
    },
    {
     "name": "stderr",
     "output_type": "stream",
     "text": [
      "Train Loss: 0.6362: 100%|██████████| 782/782 [00:39<00:00, 20.00it/s]\n"
     ]
    },
    {
     "name": "stdout",
     "output_type": "stream",
     "text": [
      "------------------Epoch 9 Test------------------\n"
     ]
    },
    {
     "name": "stderr",
     "output_type": "stream",
     "text": [
      "Test Loss: 1.6963: 100%|██████████| 157/157 [00:04<00:00, 34.68it/s]\n"
     ]
    }
   ],
   "source": [
    "# Resnet50 with pretrained weights\n",
    "# Random Initialized ResNet50\n",
    "optimizer = torch.optim.SGD(resnet50_pretrained.parameters(),\n",
    "                            lr=0.001)\n",
    "\n",
    "epochs = 10\n",
    "train_loss_history = []\n",
    "test_loss_history = []\n",
    "test_acc_history = []\n",
    "epochs = 10\n",
    "best_acc = 0.\n",
    "\n",
    "os.makedirs(\"checkpoints\", exist_ok=True)\n",
    "\n",
    "for epoch in range(epochs):\n",
    "    print(f\"------------------Epoch {epoch} Train------------------\")\n",
    "    train_losses = train_loop(resnet50_pretrained, train_dataloader, loss_fn, optimizer)\n",
    "    train_loss_history.extend(train_losses)\n",
    "    print(f\"------------------Epoch {epoch} Test------------------\")\n",
    "    test_losses, test_acc = val_loop(resnet50_pretrained, test_dataloader, loss_fn)\n",
    "    test_loss_history.append(test_losses)\n",
    "    test_acc_history.append(test_acc)\n",
    "    # if test_acc > best_acc:\n",
    "    #     best_acc = test_acc\n",
    "    #     torch.save(resnet50_pretrained.state_dict(), \"checkpoints/best_model.pt\")"
   ]
  },
  {
   "cell_type": "code",
   "execution_count": 27,
   "metadata": {
    "colab": {
     "base_uri": "https://localhost:8080/",
     "height": 452
    },
    "executionInfo": {
     "elapsed": 703,
     "status": "ok",
     "timestamp": 1691842478216,
     "user": {
      "displayName": "jeung byun",
      "userId": "00523924071807328658"
     },
     "user_tz": -540
    },
    "id": "IZz_xwxuYQXy",
    "outputId": "532f8ea4-c3a5-4259-9f26-1a197d2b4755"
   },
   "outputs": [
    {
     "data": {
      "image/png": "[encoded data removed]",
      "text/plain": [
       "<Figure size 640x480 with 1 Axes>"
      ]
     },
     "metadata": {},
     "output_type": "display_data"
    }
   ],
   "source": [
    "plt.figure()\n",
    "plt.plot(train_loss_history)\n",
    "plt.title('Train loss history (Resnet50 with Pretrained weights)')\n",
    "plt.savefig(\"figures/resnet50_pretrained_train_loss.png\")"
   ]
  },
  {
   "cell_type": "code",
   "execution_count": 28,
   "metadata": {
    "colab": {
     "base_uri": "https://localhost:8080/",
     "height": 452
    },
    "executionInfo": {
     "elapsed": 10,
     "status": "ok",
     "timestamp": 1691842478217,
     "user": {
      "displayName": "jeung byun",
      "userId": "00523924071807328658"
     },
     "user_tz": -540
    },
    "id": "1IqGZwwwan2R",
    "outputId": "14f40c6d-82af-4e36-e70e-be4ca4e339f7"
   },
   "outputs": [
    {
     "data": {
      "image/png": "[encoded data removed]",
      "text/plain": [
       "<Figure size 640x480 with 1 Axes>"
      ]
     },
     "metadata": {},
     "output_type": "display_data"
    }
   ],
   "source": [
    "plt.figure()\n",
    "plt.plot(test_loss_history)\n",
    "plt.title('Test loss history (Resnet50 with Pretrained weights)')\n",
    "plt.savefig(\"figures/resnet50_pretrained_test_loss.png\")"
   ]
  },
  {
   "cell_type": "code",
   "execution_count": 29,
   "metadata": {
    "colab": {
     "base_uri": "https://localhost:8080/",
     "height": 452
    },
    "executionInfo": {
     "elapsed": 584,
     "status": "ok",
     "timestamp": 1691842478794,
     "user": {
      "displayName": "jeung byun",
      "userId": "00523924071807328658"
     },
     "user_tz": -540
    },
    "id": "HAamwxJVapxg",
    "outputId": "eccf1597-4c4e-4ae3-c092-8294e880bfca"
   },
   "outputs": [
    {
     "data": {
      "image/png": "[encoded data removed]",
      "text/plain": [
       "<Figure size 640x480 with 1 Axes>"
      ]
     },
     "metadata": {},
     "output_type": "display_data"
    }
   ],
   "source": [
    "plt.figure()\n",
    "plt.plot(test_acc_history)\n",
    "plt.title('Test accuracy history (Resnet50 with Pretrained weights)')\n",
    "plt.savefig(\"figures/resnet50_pretrained_test_acc.png\")"
   ]
  },
  {
   "cell_type": "code",
   "execution_count": 29,
   "metadata": {
    "executionInfo": {
     "elapsed": 7,
     "status": "ok",
     "timestamp": 1691842478794,
     "user": {
      "displayName": "jeung byun",
      "userId": "00523924071807328658"
     },
     "user_tz": -540
    },
    "id": "DOoxqjRcawoD"
   },
   "outputs": [],
   "source": []
  }
 ],
 "metadata": {
  "accelerator": "GPU",
  "colab": {
   "gpuType": "T4",
   "provenance": []
  },
  "kernelspec": {
   "display_name": "Python 3 (ipykernel)",
   "language": "python",
   "name": "python3"
  },
  "language_info": {
   "codemirror_mode": {
    "name": "ipython",
    "version": 3
   },
   "file_extension": ".py",
   "mimetype": "text/x-python",
   "name": "python",
   "nbconvert_exporter": "python",
   "pygments_lexer": "ipython3",
   "version": "3.11.5"
  }
 },
 "nbformat": 4,
 "nbformat_minor": 4
}
