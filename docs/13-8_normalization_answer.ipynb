{
 "cells": [
  {
   "cell_type": "code",
   "execution_count": null,
   "id": "3feae219",
   "metadata": {},
   "outputs": [],
   "source": [
    "# Copyright 2023, Acadential, All rights reserved."
   ]
  },
  {
   "cell_type": "markdown",
   "id": "f1f8c627",
   "metadata": {},
   "source": [
    "# 13-8. Normalization\n",
    "1. BatchNorm \\\n",
    "    1-1. BatchNorm1d, BatchNorm2d, BatchNorm3d\n",
    "2. LayerNorm\n",
    "3. InstanceNorm \\\n",
    "    2-1. InstanceNorm1d, InstanceNorm2d, InstanceNorm3d\n",
    "4. GroupNorm"
   ]
  },
  {
   "cell_type": "markdown",
   "id": "e1bddbfc",
   "metadata": {},
   "source": [
    "## Import libraries"
   ]
  },
  {
   "cell_type": "code",
   "execution_count": 1,
   "id": "b4ac91f2",
   "metadata": {},
   "outputs": [],
   "source": [
    "import numpy as np \n",
    "import torch \n",
    "from torch import nn "
   ]
  },
  {
   "cell_type": "markdown",
   "id": "88dae0a1",
   "metadata": {},
   "source": [
    "## Utility functions\n",
    "\n",
    "### 1D Data Generator"
   ]
  },
  {
   "cell_type": "markdown",
   "id": "5d0d54fa",
   "metadata": {},
   "source": [
    "예시 Data을 생성하는 함수를 구현해보도록 하겠습니다.\n",
    "\n",
    "저희가 생성할 데이터는 shape이 ```(batch_size=16, num_features=8)```인 2D random tensor x입니다.\n",
    "\n",
    "num_features은 num_channels으로도 해석할 수 있습니다.\n",
    "\n",
    "Batch Norm이 어떻게 작동하는지 확인하기 위해서 각 feature별로 다음 분포를 따르도록 데이터를 생성해보겠습니다:\n",
    "- i번째 feature의 ```평균값(mean)```이 (0, 1, 2, ... 8) \n",
    "- i번째 feature의 ```표준 분포값(standard deviation)```이 (1, 2, 3, ..., 9)\n",
    "\n",
    "되도록 구성합니다.\n",
    "\n",
    "즉, 각 ```x[i][j]```은 ```mean이 j```이고 ```standard deviation이 j+1```인 분포에서 샘플링된 random한 값입니다.\n",
    "\n"
   ]
  },
  {
   "cell_type": "code",
   "execution_count": 2,
   "id": "c8e41845",
   "metadata": {},
   "outputs": [],
   "source": [
    "batch_size=16\n",
    "num_features = 8"
   ]
  },
  {
   "cell_type": "code",
   "execution_count": 3,
   "id": "e03c391b",
   "metadata": {},
   "outputs": [],
   "source": [
    "def data_generator_1d_vary_wrt_channel():\n",
    "    x = torch.normal(0, 1, size=(batch_size, num_features))\n",
    "    for i in range(num_features):\n",
    "        x[:, i] = x[:, i]*(i+1) + i\n",
    "    \n",
    "    return x\n"
   ]
  },
  {
   "cell_type": "markdown",
   "id": "92a84399",
   "metadata": {},
   "source": [
    "# BatchNorm"
   ]
  },
  {
   "cell_type": "markdown",
   "id": "9f76b24c",
   "metadata": {},
   "source": [
    "## BatchNorm1d"
   ]
  },
  {
   "cell_type": "markdown",
   "id": "9aa74397",
   "metadata": {},
   "source": [
    "## 주의 사항\n",
    "\n",
    "```참고로 주의할 점은 BatchNorm1d의 forward pass은 1d tensor가 아니라 2d tensor 혹은 3d tensor을 입력값으로 받는다.```\n",
    "\n",
    "즉, ```shape이 (batch_size, num_features)``` 혹은 ```(batch_size, num_features, num_length)```인 tensor을 입력받습니다.\n",
    "\n",
    "\n",
    "원래는 num_features 크기의 1D tensor가 batch_size 개수 만큼 묶어서 (batch_size, num_features) shape의 batch로 구성하기 때문입니다.\n"
   ]
  },
  {
   "cell_type": "markdown",
   "id": "a5ff0e76",
   "metadata": {},
   "source": [
    "## Initialize data"
   ]
  },
  {
   "cell_type": "code",
   "execution_count": 4,
   "id": "c21f7b26",
   "metadata": {},
   "outputs": [],
   "source": [
    "x = data_generator_1d_vary_wrt_channel()"
   ]
  },
  {
   "cell_type": "code",
   "execution_count": 5,
   "id": "82432e71",
   "metadata": {},
   "outputs": [
    {
     "data": {
      "text/plain": [
       "torch.Size([16, 8])"
      ]
     },
     "execution_count": 5,
     "metadata": {},
     "output_type": "execute_result"
    }
   ],
   "source": [
    "x.shape"
   ]
  },
  {
   "cell_type": "markdown",
   "id": "f1a52bdb",
   "metadata": {},
   "source": [
    "## Check input data statistics"
   ]
  },
  {
   "cell_type": "code",
   "execution_count": 6,
   "id": "8fb1d1d2",
   "metadata": {},
   "outputs": [
    {
     "data": {
      "text/plain": [
       "tensor([0.0401, 0.6258, 1.2452, 2.7926, 5.3854, 6.5786, 8.0462, 4.3371])"
      ]
     },
     "execution_count": 6,
     "metadata": {},
     "output_type": "execute_result"
    }
   ],
   "source": [
    "torch.mean(x, axis=0)"
   ]
  },
  {
   "cell_type": "markdown",
   "id": "1e971a0f",
   "metadata": {},
   "source": [
    "Batch_size에 해당되는 dimension으로 평균을 내면 평균값이 대략적으로 (0, 1, 2, ... 8)이 되는 것을 확인할 수 있습니다."
   ]
  },
  {
   "cell_type": "code",
   "execution_count": 7,
   "id": "cc1ee237",
   "metadata": {},
   "outputs": [
    {
     "data": {
      "text/plain": [
       "tensor([0.8103, 1.5840, 2.3909, 3.9327, 4.6463, 6.1254, 6.0849, 6.9148])"
      ]
     },
     "execution_count": 7,
     "metadata": {},
     "output_type": "execute_result"
    }
   ],
   "source": [
    "torch.std(x, axis=0)"
   ]
  },
  {
   "cell_type": "markdown",
   "id": "9918b333",
   "metadata": {},
   "source": [
    "Batch_size에 해당되는 dimension으로 표준편차를 구하면 표준편차가 대략적으로 (1, 2, 3, ... 9)이 되는 것을 확인할 수 있습니다."
   ]
  },
  {
   "cell_type": "markdown",
   "id": "ee603de2",
   "metadata": {},
   "source": [
    "## BatchNorm1d Forward pass"
   ]
  },
  {
   "cell_type": "markdown",
   "id": "9a56d5f2",
   "metadata": {},
   "source": [
    "처음에 BatchNorm을 initialize할때, ```gamma=0```와 ```beta=1```의 값으로 initialize됩니다.\\\n",
    "그리고, ```affine=True``` 으로 설정할 경우, gamma와 beta값은 trainable해집니다. \\\n",
    "즉, ```affine=True```은 fully connected layer을 batchnorm바로 뒤에 넣어주는 역할인 셈입니다.\n",
    "\n",
    "즉, batchnorm layer도 ```affine=True```이면 ```trainable한 layer```가 되는 셈입니다."
   ]
  },
  {
   "cell_type": "code",
   "execution_count": 8,
   "id": "db5395f8",
   "metadata": {},
   "outputs": [],
   "source": [
    "norm = nn.BatchNorm1d(num_features=num_features,\n",
    "                     affine=True)"
   ]
  },
  {
   "cell_type": "code",
   "execution_count": 9,
   "id": "9a4a8b69",
   "metadata": {},
   "outputs": [],
   "source": [
    "y = norm(x)"
   ]
  },
  {
   "cell_type": "markdown",
   "id": "871f7f35",
   "metadata": {},
   "source": [
    "## Check statistics of batchnorm1d's output"
   ]
  },
  {
   "cell_type": "markdown",
   "id": "11604ccf",
   "metadata": {},
   "source": [
    "### Batchnorm 출력값의 평균"
   ]
  },
  {
   "cell_type": "code",
   "execution_count": 10,
   "id": "31492bf7",
   "metadata": {},
   "outputs": [
    {
     "data": {
      "text/plain": [
       "tensor([ 1.4901e-08, -7.4506e-09,  0.0000e+00, -5.9605e-08,  0.0000e+00,\n",
       "        -5.9605e-08,  8.1956e-08,  2.9802e-08], grad_fn=<MeanBackward1>)"
      ]
     },
     "execution_count": 10,
     "metadata": {},
     "output_type": "execute_result"
    }
   ],
   "source": [
    "torch.mean(y, axis=0)"
   ]
  },
  {
   "cell_type": "markdown",
   "id": "aae611fb",
   "metadata": {},
   "source": [
    "Batch Norm의 출력값을 (batch size에 해당되는 dimension으로) 평균을 내면 대략적으로 평균값이 (0, 0, 0, ... 0)이 되는 것을 확인할 수 있습니다."
   ]
  },
  {
   "cell_type": "markdown",
   "id": "51c42b09",
   "metadata": {},
   "source": [
    "### Batchnorm 출력값의 표준편차"
   ]
  },
  {
   "cell_type": "code",
   "execution_count": 11,
   "id": "700a5c33",
   "metadata": {},
   "outputs": [
    {
     "data": {
      "text/plain": [
       "tensor([1.0328, 1.0328, 1.0328, 1.0328, 1.0328, 1.0328, 1.0328, 1.0328],\n",
       "       grad_fn=<StdBackward0>)"
      ]
     },
     "execution_count": 11,
     "metadata": {},
     "output_type": "execute_result"
    }
   ],
   "source": [
    "torch.std(y, axis=0)"
   ]
  },
  {
   "cell_type": "markdown",
   "id": "f39a0414",
   "metadata": {},
   "source": [
    "Batch Norm의 출력값을 (batch size에 해당되는 dimension으로) 표준편차를 계산하면 대략적으로 표준편차가 (1, 1, 1, ... 1)이 되는 것을 확인할 수 있습니다.\n"
   ]
  },
  {
   "cell_type": "markdown",
   "id": "3bd90e16",
   "metadata": {},
   "source": [
    "### 참고 사항\n",
    "\n",
    "(```affine==True```인 경우, 학습하는 과정에서 gamma와 beta가 학습되면서 batch norm의 출력값의 평균과 표준편차는 바뀝니다.\n",
    "\n",
    "참고로, BatchNorm1d forwardpass의 수식에 따르면 Batchnorm의 출력값은 평균 = beta, 표준편차 = gamma 입니다. \\\n",
    " 처음에 Batchnorm이 initialize될때 beta은 0, gamma은 1로 initialize되므로 위와 같이 평균은 0, 표준편차는 1이 되는 것을 확인할 수 있습니다!\n",
    " \n",
    " "
   ]
  },
  {
   "cell_type": "markdown",
   "id": "3857e7a8",
   "metadata": {},
   "source": [
    "## BatchNorm2d"
   ]
  },
  {
   "cell_type": "markdown",
   "id": "2c1085a2",
   "metadata": {},
   "source": [
    "BatchNorm2d은 일반적으로 CNN layer의 output (batch_size, output_channel_size, height, width) 을 처리할때 사용됩니다.\n",
    "\n",
    "**참고로 주의할 점은 BatchNorm2d은 인풋으로 4D tensor (batch_size, num_features, height, width)을 받습니다!**\n",
    "\n",
    "원래는 channel 개수 만큼 쌓은 2D tensor가 batch_size 개수 만큼 묶어서 **(batch_size, channel_size, height, width)** 의 형태로 구성되기 때문입니다.\n",
    "\n",
    "일반적으로 2D image에 적용되는 CNN에서 사용되는 BatchNorm은 (batch_size, channel_size, heigth, width)을 입력받습니다.\\\n",
    "따라서 2D 이미지에 사용되는 BatchNorm이라 BatchNorm2d라고 불리게 되었고 (이름과는 상관없이 CNN의 출력값인) 4D tensor을 입력받게 된 것으로 보입니다.\n",
    "\n",
    "CNN -> 2D image에 사용 -> CNN에 사용되는 BatchNorm을 BatchNorm2d로 부르기로 된 것 같습니다."
   ]
  },
  {
   "cell_type": "code",
   "execution_count": 12,
   "id": "57f397c9",
   "metadata": {},
   "outputs": [],
   "source": [
    "batch_size=16\n",
    "num_features = 8\n",
    "width = 32\n",
    "height = 32"
   ]
  },
  {
   "cell_type": "code",
   "execution_count": 13,
   "id": "a1b4807a",
   "metadata": {},
   "outputs": [],
   "source": [
    "def data_generator_2d_vary_wrt_channel():\n",
    "    x = torch.normal(0, 1, size=(batch_size, num_features, width, height))\n",
    "    for i in range(num_features):\n",
    "        x[:, i, :, :] = x[:, i, :, :]*(i+1) + i\n",
    "    \n",
    "    return x\n"
   ]
  },
  {
   "cell_type": "markdown",
   "id": "18c34226",
   "metadata": {},
   "source": [
    "위 함수는 shape이 ```(batch_size, num_features, width, height)``` 인 random tensor을 생성하는 함수입니다.\n",
    "\n",
    "각 ```x[i][j][h][w]```은 ```mean이 j```이고 ```standard deviation이 j+1```이도록 샘플링합니다.\n",
    "\n"
   ]
  },
  {
   "cell_type": "markdown",
   "id": "9de8deb8",
   "metadata": {},
   "source": [
    "## Check input data statistics"
   ]
  },
  {
   "cell_type": "code",
   "execution_count": 14,
   "id": "ee9dc323",
   "metadata": {},
   "outputs": [],
   "source": [
    "x = data_generator_2d_vary_wrt_channel()"
   ]
  },
  {
   "cell_type": "code",
   "execution_count": 15,
   "id": "aa8899d2",
   "metadata": {
    "scrolled": true
   },
   "outputs": [
    {
     "data": {
      "text/plain": [
       "torch.Size([16, 8, 32, 32])"
      ]
     },
     "execution_count": 15,
     "metadata": {},
     "output_type": "execute_result"
    }
   ],
   "source": [
    "x.shape"
   ]
  },
  {
   "cell_type": "markdown",
   "id": "ef87f61c",
   "metadata": {},
   "source": [
    "### 평균 계산\n",
    "Batch_size, width, heigth에 해당되는 axis에 대해서 평균 계산"
   ]
  },
  {
   "cell_type": "code",
   "execution_count": 16,
   "id": "85abf842",
   "metadata": {},
   "outputs": [
    {
     "data": {
      "text/plain": [
       "tensor([-0.0070,  0.9769,  1.9842,  3.0054,  3.9610,  4.9169,  5.9768,  6.9984])"
      ]
     },
     "execution_count": 16,
     "metadata": {},
     "output_type": "execute_result"
    }
   ],
   "source": [
    "torch.mean(x, axis=[0, 2, 3])"
   ]
  },
  {
   "cell_type": "markdown",
   "id": "af4ef7f6",
   "metadata": {},
   "source": [
    "두번째 dimension에 해당되는 feature들의 평균값들이 대략적으로 (0, 1, 2, ... 8)이 되는 것을 확인할 수 있음. \\\n",
    "```x[i][j][h][w]```의 ```mean == j```"
   ]
  },
  {
   "cell_type": "markdown",
   "id": "7f08ddfa",
   "metadata": {},
   "source": [
    "### 표준편차 계산\n",
    "Batch_size, width, heigth에 해당되는 axis에 대해서 표준편차 계산"
   ]
  },
  {
   "cell_type": "code",
   "execution_count": 17,
   "id": "b6726345",
   "metadata": {},
   "outputs": [
    {
     "data": {
      "text/plain": [
       "tensor([1.0007, 2.0141, 2.9779, 4.0197, 5.0077, 5.9681, 6.9464, 7.9319])"
      ]
     },
     "execution_count": 17,
     "metadata": {},
     "output_type": "execute_result"
    }
   ],
   "source": [
    "torch.std(x, axis=[0, 2, 3])"
   ]
  },
  {
   "cell_type": "markdown",
   "id": "924c9c01",
   "metadata": {},
   "source": [
    "두번째 dimension에 해당되는 feature들의 표준편차값들이 대략적으로 (1, 2, 3, ... 9)이 되는 것을 확인할 수 있음. \\\n",
    "```x[i][j][h][w]```의 ```standard deviation == j+1```"
   ]
  },
  {
   "cell_type": "markdown",
   "id": "b30b6d3f",
   "metadata": {},
   "source": [
    "## BatchNorm2d Forward pass"
   ]
  },
  {
   "cell_type": "code",
   "execution_count": 18,
   "id": "d2b2796d",
   "metadata": {},
   "outputs": [],
   "source": [
    "norm = nn.BatchNorm2d(num_features=8,\n",
    "                     affine=True)  ## BatchNorm2d Forward pass"
   ]
  },
  {
   "cell_type": "code",
   "execution_count": 19,
   "id": "d6c545d5",
   "metadata": {},
   "outputs": [
    {
     "data": {
      "text/plain": [
       "torch.Size([16, 8, 32, 32])"
      ]
     },
     "execution_count": 19,
     "metadata": {},
     "output_type": "execute_result"
    }
   ],
   "source": [
    "x.shape"
   ]
  },
  {
   "cell_type": "code",
   "execution_count": 20,
   "id": "e11de9b0",
   "metadata": {},
   "outputs": [],
   "source": [
    "y = norm(x)"
   ]
  },
  {
   "cell_type": "markdown",
   "id": "1ca6e89c",
   "metadata": {},
   "source": [
    "## Check statistics of batchnorm2d's output"
   ]
  },
  {
   "cell_type": "markdown",
   "id": "01a0b278",
   "metadata": {},
   "source": [
    "### BatchNorm2d 출력값의 평균"
   ]
  },
  {
   "cell_type": "code",
   "execution_count": 21,
   "id": "c3fbb410",
   "metadata": {},
   "outputs": [
    {
     "data": {
      "text/plain": [
       "tensor(-8.5129e-09, grad_fn=<MeanBackward0>)"
      ]
     },
     "execution_count": 21,
     "metadata": {},
     "output_type": "execute_result"
    }
   ],
   "source": [
    "torch.mean(torch.mean(y, axis=[2, 3]))"
   ]
  },
  {
   "cell_type": "markdown",
   "id": "c03e13ed",
   "metadata": {},
   "source": [
    "Batch Norm의 출력값을 (batch size, width, height에 해당되는 dimension들로) 평균을 내면 대략적으로 평균값이 (0, 0, 0, ... 0)이 되는 것을 확인할 수 있습니다."
   ]
  },
  {
   "cell_type": "markdown",
   "id": "1f549395",
   "metadata": {},
   "source": [
    "### BatchNorm2d 출력값의 표준편차"
   ]
  },
  {
   "cell_type": "code",
   "execution_count": 22,
   "id": "2abe6461",
   "metadata": {},
   "outputs": [
    {
     "data": {
      "text/plain": [
       "tensor(0.9998, grad_fn=<MeanBackward0>)"
      ]
     },
     "execution_count": 22,
     "metadata": {},
     "output_type": "execute_result"
    }
   ],
   "source": [
    "torch.mean(torch.std(y, axis=[2, 3]))"
   ]
  },
  {
   "cell_type": "markdown",
   "id": "e8bac51d",
   "metadata": {},
   "source": [
    "Batch Norm의 출력값을 (batch size, width, height에 해당되는 dimension들로) 표준편차를 계산하면 대략적으로 표준편차가 (1, 1, ..., 1)이 되는 것을 확인할 수 있습니다."
   ]
  },
  {
   "cell_type": "markdown",
   "id": "c46a5b91",
   "metadata": {},
   "source": [
    "## BatchNorm3d"
   ]
  },
  {
   "cell_type": "code",
   "execution_count": 23,
   "id": "19a4a075",
   "metadata": {},
   "outputs": [],
   "source": [
    "batch_size=16\n",
    "num_features = 8\n",
    "depth = 16\n",
    "width = 32\n",
    "height = 32"
   ]
  },
  {
   "cell_type": "code",
   "execution_count": 24,
   "id": "7fdb0e6c",
   "metadata": {},
   "outputs": [],
   "source": [
    "def data_generator_3d_vary_wrt_channel():\n",
    "    x = torch.normal(0, 1, size=(batch_size, num_features, depth, width, height))\n",
    "    for i in range(num_features):\n",
    "        x[:, i, :, :, :] = x[:, i, :, :, :]*(i+1) + i\n",
    "    \n",
    "    return x\n"
   ]
  },
  {
   "cell_type": "code",
   "execution_count": 25,
   "id": "4f3e62b4",
   "metadata": {},
   "outputs": [],
   "source": [
    "x = data_generator_3d_vary_wrt_channel()"
   ]
  },
  {
   "cell_type": "code",
   "execution_count": 26,
   "id": "ba7c39e1",
   "metadata": {},
   "outputs": [
    {
     "data": {
      "text/plain": [
       "torch.Size([16, 8, 16, 32, 32])"
      ]
     },
     "execution_count": 26,
     "metadata": {},
     "output_type": "execute_result"
    }
   ],
   "source": [
    "x.shape"
   ]
  },
  {
   "cell_type": "markdown",
   "id": "d8e02338",
   "metadata": {},
   "source": [
    "### 평균 계산\n",
    "Batch_size, depth, width, heigth에 해당되는 axis에 대해서 평균 계산"
   ]
  },
  {
   "cell_type": "code",
   "execution_count": 27,
   "id": "efaaee1e",
   "metadata": {},
   "outputs": [
    {
     "data": {
      "text/plain": [
       "tensor([-9.7681e-04,  1.0006e+00,  1.9998e+00,  3.0083e+00,  3.9906e+00,\n",
       "         5.0104e+00,  5.9970e+00,  7.0058e+00])"
      ]
     },
     "execution_count": 27,
     "metadata": {},
     "output_type": "execute_result"
    }
   ],
   "source": [
    "torch.mean(x, axis=[0, 2, 3, 4])"
   ]
  },
  {
   "cell_type": "markdown",
   "id": "27784770",
   "metadata": {},
   "source": [
    "두번째 dimension에 해당되는 feature들의 평균값들이 대략적으로 (0, 1, 2, ... 8)이 되는 것을 확인할 수 있음. \\\n",
    "```x[i][j][h][w]```의 ```mean == j```"
   ]
  },
  {
   "cell_type": "markdown",
   "id": "b5839522",
   "metadata": {},
   "source": [
    "### 표준편차 계산\n",
    "Batch_size, depth, width, heigth에 해당되는 axis에 대해서 표준편차 계산"
   ]
  },
  {
   "cell_type": "code",
   "execution_count": 28,
   "id": "2d5ef088",
   "metadata": {},
   "outputs": [
    {
     "data": {
      "text/plain": [
       "tensor([0.9983, 1.9976, 3.0002, 4.0063, 4.9901, 5.9976, 7.0137, 8.0031])"
      ]
     },
     "execution_count": 28,
     "metadata": {},
     "output_type": "execute_result"
    }
   ],
   "source": [
    "torch.std(x, axis=[0, 2, 3, 4])"
   ]
  },
  {
   "cell_type": "markdown",
   "id": "9e8028bb",
   "metadata": {},
   "source": [
    "두번째 dimension에 해당되는 feature들의 표준편차값들이 대략적으로 (1, 2, 3, ... 9)이 되는 것을 확인할 수 있음. \\\n",
    "```x[i][j][h][w]```의 ```standard deviation == j+1```"
   ]
  },
  {
   "cell_type": "markdown",
   "id": "5edeb0d6",
   "metadata": {},
   "source": [
    "## BatchNorm3d Forward pass"
   ]
  },
  {
   "cell_type": "code",
   "execution_count": 29,
   "id": "0e81857b",
   "metadata": {},
   "outputs": [],
   "source": [
    "norm = nn.BatchNorm3d(num_features=8,\n",
    "                      affine=True)  ## BatchNorm3d Forward pass"
   ]
  },
  {
   "cell_type": "code",
   "execution_count": 30,
   "id": "4986fb21",
   "metadata": {},
   "outputs": [
    {
     "data": {
      "text/plain": [
       "torch.Size([16, 8, 16, 32, 32])"
      ]
     },
     "execution_count": 30,
     "metadata": {},
     "output_type": "execute_result"
    }
   ],
   "source": [
    "x.shape"
   ]
  },
  {
   "cell_type": "code",
   "execution_count": 31,
   "id": "90e52c9e",
   "metadata": {},
   "outputs": [],
   "source": [
    "y = norm(x)"
   ]
  },
  {
   "cell_type": "markdown",
   "id": "78ccb1f8",
   "metadata": {},
   "source": [
    "## Check statistics of batchnorm3d's output"
   ]
  },
  {
   "cell_type": "markdown",
   "id": "f89f60a2",
   "metadata": {},
   "source": [
    "### BatchNorm3d 출력값의 평균"
   ]
  },
  {
   "cell_type": "code",
   "execution_count": 32,
   "id": "485076a5",
   "metadata": {},
   "outputs": [
    {
     "data": {
      "text/plain": [
       "tensor([-7.5088e-09,  3.2858e-08,  1.8656e-08, -1.6938e-08,  1.7084e-08,\n",
       "        -1.3621e-08, -2.3938e-08,  6.1700e-09], grad_fn=<MeanBackward1>)"
      ]
     },
     "execution_count": 32,
     "metadata": {},
     "output_type": "execute_result"
    }
   ],
   "source": [
    "torch.mean(y, axis=[0, 2, 3, 4])"
   ]
  },
  {
   "cell_type": "markdown",
   "id": "f1b039e8",
   "metadata": {},
   "source": [
    "Batch Norm의 출력값을 (batch size, width, height에 해당되는 dimension들로) 평균을 내면 대략적으로 평균값이 (0, 0, 0, ... 0)이 되는 것을 확인할 수 있습니다."
   ]
  },
  {
   "cell_type": "markdown",
   "id": "3ddb965c",
   "metadata": {},
   "source": [
    "### BatchNorm3d 출력값의 표준편차"
   ]
  },
  {
   "cell_type": "code",
   "execution_count": 33,
   "id": "a23da0e3",
   "metadata": {},
   "outputs": [
    {
     "data": {
      "text/plain": [
       "tensor([1.0000, 1.0000, 1.0000, 1.0000, 1.0000, 1.0000, 1.0000, 1.0000],\n",
       "       grad_fn=<StdBackward0>)"
      ]
     },
     "execution_count": 33,
     "metadata": {},
     "output_type": "execute_result"
    }
   ],
   "source": [
    "torch.std(y, axis=[0, 2, 3, 4])"
   ]
  },
  {
   "cell_type": "markdown",
   "id": "8e89ba21",
   "metadata": {},
   "source": [
    "Batch Norm의 출력값을 (batch size, width, height에 해당되는 dimension들로) 표준편차를 내면 대략적으로 표준편차가 (1, 1, 1, ... 1)이 되는 것을 확인할 수 있습니다."
   ]
  },
  {
   "cell_type": "markdown",
   "id": "09a59e75",
   "metadata": {},
   "source": [
    "# LayerNorm"
   ]
  },
  {
   "cell_type": "code",
   "execution_count": 83,
   "id": "402113b7",
   "metadata": {},
   "outputs": [],
   "source": [
    "batch_size=16\n",
    "num_features = 8\n",
    "width = 32\n",
    "height = 32"
   ]
  },
  {
   "cell_type": "code",
   "execution_count": 106,
   "id": "d22b669d",
   "metadata": {},
   "outputs": [],
   "source": [
    "# Mean and std different for each data\n",
    "\n",
    "def data_generator_2d_vary_wrt_data():\n",
    "    x = torch.normal(0, 1, size=(batch_size, num_features, width, height))\n",
    "    for i in range(batch_size):\n",
    "        x[i, :, :, :] = x[i, :, :, :]*(i+1) + i\n",
    "    \n",
    "    return x\n"
   ]
  },
  {
   "cell_type": "code",
   "execution_count": 121,
   "id": "b6297262",
   "metadata": {},
   "outputs": [],
   "source": [
    "num_features = 8\n",
    "width = 32\n",
    "height = 32"
   ]
  },
  {
   "cell_type": "code",
   "execution_count": 122,
   "id": "c275f871",
   "metadata": {},
   "outputs": [],
   "source": [
    "x = data_generator_2d_vary_wrt_data()"
   ]
  },
  {
   "cell_type": "markdown",
   "id": "707f5709",
   "metadata": {},
   "source": [
    "### 평균 계산"
   ]
  },
  {
   "cell_type": "code",
   "execution_count": 123,
   "id": "909043d7",
   "metadata": {},
   "outputs": [
    {
     "data": {
      "text/plain": [
       "tensor([-7.9856e-03,  1.0187e+00,  2.0461e+00,  3.0309e+00,  3.9944e+00,\n",
       "         5.0416e+00,  5.9264e+00,  6.9208e+00,  8.0238e+00,  9.1372e+00,\n",
       "         1.0176e+01,  1.0890e+01,  1.2004e+01,  1.2870e+01,  1.3913e+01,\n",
       "         1.5145e+01])"
      ]
     },
     "execution_count": 123,
     "metadata": {},
     "output_type": "execute_result"
    }
   ],
   "source": [
    "torch.mean(x, axis=[1, 2, 3])"
   ]
  },
  {
   "cell_type": "markdown",
   "id": "89daa85f",
   "metadata": {},
   "source": [
    "### 표준편차 계산"
   ]
  },
  {
   "cell_type": "code",
   "execution_count": 124,
   "id": "8d7538cf",
   "metadata": {},
   "outputs": [
    {
     "data": {
      "text/plain": [
       "tensor([ 0.9907,  2.0038,  2.9944,  3.9648,  5.0034,  5.9411,  7.0349,  8.0416,\n",
       "         8.9757,  9.9321, 11.1052, 11.8557, 13.0558, 14.0219, 15.1255, 15.9875])"
      ]
     },
     "execution_count": 124,
     "metadata": {},
     "output_type": "execute_result"
    }
   ],
   "source": [
    "torch.std(x, axis=[1, 2, 3])"
   ]
  },
  {
   "cell_type": "markdown",
   "id": "00348816",
   "metadata": {},
   "source": [
    "## LayerNorm Forward pass"
   ]
  },
  {
   "cell_type": "code",
   "execution_count": 125,
   "id": "501b9ca9",
   "metadata": {},
   "outputs": [],
   "source": [
    "norm = nn.LayerNorm(\n",
    "    normalized_shape=(num_features, width, height),\n",
    "    elementwise_affine=False\n",
    ")"
   ]
  },
  {
   "cell_type": "code",
   "execution_count": 126,
   "id": "d5e4f47a",
   "metadata": {},
   "outputs": [],
   "source": [
    "y = norm(x)"
   ]
  },
  {
   "cell_type": "markdown",
   "id": "7a07ba43",
   "metadata": {},
   "source": [
    "### LayerNorm 출력값의 평균"
   ]
  },
  {
   "cell_type": "code",
   "execution_count": 127,
   "id": "6396e5de",
   "metadata": {},
   "outputs": [
    {
     "data": {
      "text/plain": [
       "tensor([-4.6566e-10,  1.4435e-08,  1.1642e-09, -3.9232e-08, -5.5879e-09,\n",
       "        -9.2201e-08,  5.2387e-08,  1.2107e-08,  9.7789e-08,  5.0757e-08,\n",
       "         2.8173e-08,  6.1700e-08, -1.1176e-08, -2.5146e-08, -6.1700e-09,\n",
       "        -2.3749e-08])"
      ]
     },
     "execution_count": 127,
     "metadata": {},
     "output_type": "execute_result"
    }
   ],
   "source": [
    "torch.mean(y, axis=[1, 2, 3])"
   ]
  },
  {
   "cell_type": "markdown",
   "id": "9991fa6b",
   "metadata": {},
   "source": [
    "Layer Norm의 출력값을 (channel, width, height에 해당되는 dimension들로) 평균을 내면 대략적으로 평균값이 (0, 0, 0, ... 0)이 되는 것을 확인할 수 있습니다."
   ]
  },
  {
   "cell_type": "markdown",
   "id": "17eb5e00",
   "metadata": {},
   "source": [
    "### LayerNorm 출력값의 표준편차"
   ]
  },
  {
   "cell_type": "code",
   "execution_count": 128,
   "id": "6121a92e",
   "metadata": {},
   "outputs": [
    {
     "data": {
      "text/plain": [
       "tensor([1.0001, 1.0001, 1.0001, 1.0001, 1.0001, 1.0001, 1.0001, 1.0001, 1.0001,\n",
       "        1.0001, 1.0001, 1.0001, 1.0001, 1.0001, 1.0001, 1.0001])"
      ]
     },
     "execution_count": 128,
     "metadata": {},
     "output_type": "execute_result"
    }
   ],
   "source": [
    "torch.std(y, axis=[1, 2, 3])"
   ]
  },
  {
   "cell_type": "markdown",
   "id": "fcb32638",
   "metadata": {},
   "source": [
    "Layer Norm의 출력값을 (channel, width, height에 해당되는 dimension들로) 표준편차를 내면 대략적으로 평균값이 (1, 1, 1, ... 1)이 되는 것을 확인할 수 있습니다."
   ]
  },
  {
   "cell_type": "markdown",
   "id": "7e010b71",
   "metadata": {},
   "source": [
    "### 동일한 예시에 BatchNorm을 적용해보자"
   ]
  },
  {
   "cell_type": "code",
   "execution_count": 129,
   "id": "2e2305ef",
   "metadata": {},
   "outputs": [],
   "source": [
    "norm = nn.BatchNorm2d(num_features=8,\n",
    "                     affine=True)  ## BatchNorm2d Forward pass"
   ]
  },
  {
   "cell_type": "code",
   "execution_count": 130,
   "id": "e030b0c9",
   "metadata": {},
   "outputs": [],
   "source": [
    "y = norm(x)"
   ]
  },
  {
   "cell_type": "code",
   "execution_count": 131,
   "id": "8ceaf6ad",
   "metadata": {},
   "outputs": [
    {
     "data": {
      "text/plain": [
       "tensor([-0.7013, -0.6055, -0.5097, -0.4177, -0.3279, -0.2302, -0.1476, -0.0548,\n",
       "         0.0481,  0.1521,  0.2489,  0.3157,  0.4194,  0.5001,  0.5977,  0.7125],\n",
       "       grad_fn=<MeanBackward1>)"
      ]
     },
     "execution_count": 131,
     "metadata": {},
     "output_type": "execute_result"
    }
   ],
   "source": [
    "torch.mean(y, axis=[1, 2, 3])"
   ]
  },
  {
   "cell_type": "markdown",
   "id": "8be05a70",
   "metadata": {},
   "source": [
    "Batch Norm의 출력값을 (channel, width, height에 해당되는 dimension들로) 평균을 내면 대략적으로 평균값이 (0, 0, 0, ... 0)이 되지 않습니다!"
   ]
  },
  {
   "cell_type": "code",
   "execution_count": 132,
   "id": "633c79cf",
   "metadata": {},
   "outputs": [
    {
     "data": {
      "text/plain": [
       "tensor([0.0928, 0.1871, 0.2795, 0.3700, 0.4668, 0.5543, 0.6564, 0.7504, 0.8373,\n",
       "        0.9266, 1.0362, 1.1061, 1.2180, 1.3081, 1.4115, 1.4914],\n",
       "       grad_fn=<StdBackward0>)"
      ]
     },
     "execution_count": 132,
     "metadata": {},
     "output_type": "execute_result"
    }
   ],
   "source": [
    "torch.std(y, axis=[1, 2, 3])"
   ]
  },
  {
   "cell_type": "markdown",
   "id": "60013eda",
   "metadata": {},
   "source": [
    "Batch Norm의 출력값을 (channel, width, height에 해당되는 dimension들로) 표준편차를 내면 대략적으로 평균값이 (1, 1, 1, ... 1)이 되지 않습니다!"
   ]
  },
  {
   "cell_type": "markdown",
   "id": "8680de50",
   "metadata": {},
   "source": [
    "# InstanceNorm"
   ]
  },
  {
   "cell_type": "code",
   "execution_count": 48,
   "id": "fc2f7466",
   "metadata": {},
   "outputs": [],
   "source": [
    "# mean, std vary wrt batch and channel\n",
    "def data_generator_2d_vary_wrt_data_channel():\n",
    "    x = torch.normal(0, 1, size=(batch_size, num_features, width, height))\n",
    "    count = 0\n",
    "    for i in range(batch_size):\n",
    "        for j in range(num_features):\n",
    "            x[i, j, :, :] = x[i, j, :, :]*(count+1) + count\n",
    "            count += 1\n",
    "    \n",
    "    return x\n",
    "\n"
   ]
  },
  {
   "cell_type": "markdown",
   "id": "e909c11c",
   "metadata": {},
   "source": [
    "InstanceNorm의 경우 Height, Width, Batch을 고정했을때, Channel의 axis 방향으로 평균과 표준편차가 일정하도록 normalize해줍니다."
   ]
  },
  {
   "cell_type": "code",
   "execution_count": 133,
   "id": "7c726759",
   "metadata": {},
   "outputs": [],
   "source": [
    "batch_size=16\n",
    "num_features = 8\n",
    "width = 32\n",
    "height = 32"
   ]
  },
  {
   "cell_type": "code",
   "execution_count": 134,
   "id": "2aaa9fe1",
   "metadata": {},
   "outputs": [],
   "source": [
    "x = data_generator_2d_vary_wrt_data_channel()"
   ]
  },
  {
   "cell_type": "markdown",
   "id": "f206dc8b",
   "metadata": {},
   "source": [
    "### 평균 계산"
   ]
  },
  {
   "cell_type": "code",
   "execution_count": 135,
   "id": "5bc2db70",
   "metadata": {},
   "outputs": [
    {
     "data": {
      "text/plain": [
       "tensor(63.2102)"
      ]
     },
     "execution_count": 135,
     "metadata": {},
     "output_type": "execute_result"
    }
   ],
   "source": [
    "torch.mean(torch.mean(x, axis=[1]))"
   ]
  },
  {
   "cell_type": "markdown",
   "id": "3c27ddaf",
   "metadata": {},
   "source": [
    "### 표준편차 계산"
   ]
  },
  {
   "cell_type": "code",
   "execution_count": 136,
   "id": "cbc1fb46",
   "metadata": {},
   "outputs": [
    {
     "data": {
      "text/plain": [
       "tensor(62.3172)"
      ]
     },
     "execution_count": 136,
     "metadata": {},
     "output_type": "execute_result"
    }
   ],
   "source": [
    "torch.mean(torch.std(x, axis=[1]))"
   ]
  },
  {
   "cell_type": "markdown",
   "id": "e6f68880",
   "metadata": {},
   "source": [
    "## InstanceNorm Forward pass"
   ]
  },
  {
   "cell_type": "code",
   "execution_count": 137,
   "id": "ef04d798",
   "metadata": {},
   "outputs": [],
   "source": [
    "norm = nn.InstanceNorm2d(\n",
    "    num_features=num_features,\n",
    "    affine=True\n",
    ")"
   ]
  },
  {
   "cell_type": "code",
   "execution_count": 138,
   "id": "eae2891f",
   "metadata": {},
   "outputs": [],
   "source": [
    "y = norm(x)"
   ]
  },
  {
   "cell_type": "markdown",
   "id": "fbf570f3",
   "metadata": {},
   "source": [
    "### InstanceNorm 출력값의 평균"
   ]
  },
  {
   "cell_type": "code",
   "execution_count": 139,
   "id": "f1b23a8a",
   "metadata": {},
   "outputs": [
    {
     "data": {
      "text/plain": [
       "tensor(-8.7311e-10, grad_fn=<MeanBackward0>)"
      ]
     },
     "execution_count": 139,
     "metadata": {},
     "output_type": "execute_result"
    }
   ],
   "source": [
    "torch.mean(torch.mean(y, axis=[1]))"
   ]
  },
  {
   "cell_type": "markdown",
   "id": "cd424948",
   "metadata": {},
   "source": [
    "Instance Norm의 출력값을 (width, height에 해당되는 dimension들로) 평균을 내면 각 (batch, channel)에 대해서 대략적으로 평균값이 (0, 0, 0, ... 0)이 되는 것을 확인할 수 있습니다."
   ]
  },
  {
   "cell_type": "markdown",
   "id": "0b83a764",
   "metadata": {},
   "source": [
    "### InstanceNorm 출력값의 표준편차"
   ]
  },
  {
   "cell_type": "code",
   "execution_count": 141,
   "id": "e66026f8",
   "metadata": {},
   "outputs": [
    {
     "data": {
      "text/plain": [
       "tensor(0.9638, grad_fn=<MeanBackward0>)"
      ]
     },
     "execution_count": 141,
     "metadata": {},
     "output_type": "execute_result"
    }
   ],
   "source": [
    "torch.mean(torch.std(y, axis=[1]))"
   ]
  },
  {
   "cell_type": "markdown",
   "id": "5852f479",
   "metadata": {},
   "source": [
    "Instance Norm의 출력값을 (width, height에 해당되는 dimension들로) 표준편차를 내면 각 (batch, channel)에 대해서 대략적으로 표준편차값이 (1, 1, 1, ... 1)이 되는 것을 확인할 수 있습니다."
   ]
  },
  {
   "cell_type": "code",
   "execution_count": null,
   "id": "2cbdcdf5",
   "metadata": {},
   "outputs": [],
   "source": []
  },
  {
   "cell_type": "code",
   "execution_count": null,
   "id": "33f835c4",
   "metadata": {},
   "outputs": [],
   "source": []
  },
  {
   "cell_type": "code",
   "execution_count": null,
   "id": "6d68a6af",
   "metadata": {},
   "outputs": [],
   "source": []
  }
 ],
 "metadata": {
  "kernelspec": {
   "display_name": "Python 3 (ipykernel)",
   "language": "python",
   "name": "python3"
  },
  "language_info": {
   "codemirror_mode": {
    "name": "ipython",
    "version": 3
   },
   "file_extension": ".py",
   "mimetype": "text/x-python",
   "name": "python",
   "nbconvert_exporter": "python",
   "pygments_lexer": "ipython3",
   "version": "3.11.5"
  }
 },
 "nbformat": 4,
 "nbformat_minor": 5
}
