{
 "cells": [
  {
   "cell_type": "code",
   "execution_count": 1,
   "id": "9735edda",
   "metadata": {},
   "outputs": [],
   "source": [
    "# Copyright 2023, Acadential, All rights reserved."
   ]
  },
  {
   "cell_type": "markdown",
   "id": "7a5a603c-848c-49b0-8305-e8bc192e5006",
   "metadata": {
    "pycharm": {
     "name": "#%% md\n"
    }
   },
   "source": [
    "# 2-7. PyTorch 기초 - Transforms\n",
    "\n",
    "```torchvision```에서는 다양한 transformation 함수들을 제공합니다. \\\n",
    "이들을 사용해서 데이터셋을 더 다양하게 변형시킬 수 있습니다. \\\n",
    "예를 들어서 이미지를 무작위로 자르거나, 회전시키거나, 뒤집거나, 희미하게 만드는 변형 방법들이 있습니다.\n",
    "이미지 데이터를 다양하게 변형시켜서 모델을 학습시키는 방법을 Data Augmentation이라고 합니다. \\\n",
    "참고로, Data Augmentation은 한정된 데이터셋을 더 다양하게 만들어서 모델의 성능을 높이는 방법입니다. \\\n",
    "마치 데이터가 더 많아진 것처럼 학습시키는 효과가 있어서 Data Augmentation 즉 데이터 증강 방법이라고 불립니다. \\\n",
    "Data Augmentation 방법은 모델이 Overfitting 되는 것을 방지하는데도 도움을 줍니다.\n",
    "\n",
    "\n",
    "살펴볼 내용들:\n",
    "1. torchvision.transforms \\\n",
    "    1-1. GaussianBlur\n",
    "    1-2. Compose \\\n",
    "    1-3. RandomAffine\n",
    "2. Lambda transforms"
   ]
  },
  {
   "cell_type": "code",
   "execution_count": 1,
   "id": "51c357c1-b224-47bf-9a2b-4301d8e69b0a",
   "metadata": {
    "pycharm": {
     "name": "#%%\n"
    }
   },
   "outputs": [],
   "source": [
    "import numpy as np \n",
    "import torch\n",
    "from torch.utils.data import Dataset\n",
    "from torchvision import datasets\n",
    "from torchvision.transforms import ToTensor\n",
    "import matplotlib.pyplot as plt\n",
    "import torchvision\n"
   ]
  },
  {
   "cell_type": "markdown",
   "id": "ca57fd5c-43c4-4ad6-859f-07337cb021d1",
   "metadata": {
    "pycharm": {
     "name": "#%% md\n"
    }
   },
   "source": [
    "# Load Image\n",
    "\n",
    "먼저 이번 시간에 사용할 예시 이미지를 불러옵니다."
   ]
  },
  {
   "cell_type": "code",
   "execution_count": 2,
   "id": "0f1f416e-682c-4e67-86f0-5daf3f2804d9",
   "metadata": {
    "pycharm": {
     "name": "#%%\n"
    }
   },
   "outputs": [
    {
     "data": {
      "image/jpeg": "[encoded data removed]",
      "image/png": "[encoded data removed]",
      "text/plain": [
       "<PIL.Image.Image image mode=RGB size=60x40>"
      ]
     },
     "execution_count": 2,
     "metadata": {},
     "output_type": "execute_result"
    }
   ],
   "source": [
    "from PIL import Image \n",
    "img = Image.open(\"./sample_images/cat_img.jpeg\")\n",
    "size = img.size\n",
    "img = img.resize((size[0]//8, size[1]//8))\n",
    "img"
   ]
  },
  {
   "cell_type": "markdown",
   "id": "a77d70c9-a05a-4975-8828-799295bcaaec",
   "metadata": {
    "pycharm": {
     "name": "#%% md\n"
    }
   },
   "source": [
    "# ```torchvision.transforms``` 을 사용한 Data Augmentation\n",
    "\n",
    "```torchvision``` library에서 다양한 transform 함수들을 제공해줍니다. [링크](https://pytorch.org/vision/stable/transforms.html)\n",
    "\n",
    "이 중에서:\n",
    "```GaussianBlur```, ```RandomAffine```, ```Compose```을 살펴보겠습니다\n"
   ]
  },
  {
   "cell_type": "markdown",
   "id": "cfdb775f-9218-4385-9737-f7c049cdd2a1",
   "metadata": {
    "pycharm": {
     "name": "#%% md\n"
    }
   },
   "source": [
    "## GaussianBlur\n",
    "\n",
    "GaussianBlur이란 이미지를 흐리게(blur) 처리하는 방법 중 하나입니다. \\\n",
    "이미지를 흐리게 만들면 노이즈를 제거하거나, 이미지의 특정 부분을 강조하는데 사용할 수 있습니다. \\\n",
    "Gaussian 필터는 이미지의 픽셀을 중심으로 주변 픽셀들을 Gaussian 분포로 가중합하여 픽셀 값을 재조정해줍니다."
   ]
  },
  {
   "cell_type": "code",
   "execution_count": 3,
   "id": "c873c9d3-0972-4eba-b36e-cf83af343b66",
   "metadata": {
    "pycharm": {
     "name": "#%%\n"
    }
   },
   "outputs": [
    {
     "data": {
      "image/jpeg": "[encoded data removed]",
      "image/png": "[encoded data removed]",
      "text/plain": [
       "<PIL.Image.Image image mode=RGB size=60x40>"
      ]
     },
     "execution_count": 3,
     "metadata": {},
     "output_type": "execute_result"
    }
   ],
   "source": [
    "# Gaussian Blur\n",
    "gaussian_blur = torchvision.transforms.GaussianBlur(kernel_size=5, sigma=(6.0, 6.0))\n",
    "gaussian_blur(img)"
   ]
  },
  {
   "cell_type": "markdown",
   "id": "7024484d-0dd7-418b-8f8f-c2a53073da3b",
   "metadata": {
    "pycharm": {
     "name": "#%% md\n"
    }
   },
   "source": [
    "## RandomAffine\n",
    "\n",
    "Random affine이란 이미지를 랜덤하게 affine 변환 (기하학적인 변환)을 시키는 것입니다. \\\n",
    "Affine 변환은 선의 평행성을 유지하며, 직선은 직선으로 보존된다. 이러한 affine 변환은 이미지를 확대, 축소, 회전, 전단, 기울임 등을 할 수 있습니다."
   ]
  },
  {
   "cell_type": "code",
   "execution_count": 11,
   "id": "41942127-cde0-46b9-b5bb-baec24685cb4",
   "metadata": {
    "pycharm": {
     "name": "#%%\n"
    }
   },
   "outputs": [
    {
     "data": {
      "image/jpeg": "[encoded data removed]",
      "image/png": "[encoded data removed]",
      "text/plain": [
       "<PIL.Image.Image image mode=RGB size=60x40>"
      ]
     },
     "execution_count": 11,
     "metadata": {},
     "output_type": "execute_result"
    }
   ],
   "source": [
    "random_affine = torchvision.transforms.RandomAffine(degrees=20,  # rotation (회전 )\n",
    "                                    translate=(0.1, 0.1),  # 평행이동\n",
    "                                    scale=(0.8, 1.2),  # Scaling (크기)\n",
    "                                    shear=15  # 전단 \n",
    "                                   )\n",
    "random_affine(img)"
   ]
  },
  {
   "cell_type": "markdown",
   "id": "78d04173-3e2c-46a7-b4c1-dfb90ef6f8f2",
   "metadata": {
    "pycharm": {
     "name": "#%% md\n"
    }
   },
   "source": [
    "## Compose\n",
    "\n",
    "여러 개의 transform들을 합쳐서 사용하고 싶은 경우 ```torchvision.transforms.Compose```를 사용할 수 있습니다.\n"
   ]
  },
  {
   "cell_type": "code",
   "execution_count": 12,
   "id": "bb433162-ab3d-47af-a6a9-e630cb14585d",
   "metadata": {
    "pycharm": {
     "name": "#%%\n"
    }
   },
   "outputs": [],
   "source": [
    "combined_transform = torchvision.transforms.Compose([\n",
    "    gaussian_blur,\n",
    "    random_affine,\n",
    "])"
   ]
  },
  {
   "cell_type": "code",
   "execution_count": 13,
   "id": "1e820fd1-9657-4fda-8fb5-08b59a9186e4",
   "metadata": {
    "pycharm": {
     "name": "#%%\n"
    }
   },
   "outputs": [
    {
     "data": {
      "image/jpeg": "[encoded data removed]",
      "image/png": "[encoded data removed]",
      "text/plain": [
       "<PIL.Image.Image image mode=RGB size=60x40>"
      ]
     },
     "execution_count": 13,
     "metadata": {},
     "output_type": "execute_result"
    }
   ],
   "source": [
    "combined_transform(img)"
   ]
  },
  {
   "cell_type": "markdown",
   "id": "7f277db4-2136-484c-bd8b-c8a777402906",
   "metadata": {
    "pycharm": {
     "name": "#%% md\n"
    }
   },
   "source": [
    "# Lambda Transform\n",
    "\n",
    "Custom transform 함수를 만들고 싶을때 ```Lambda```을 사용할 수 있습니다. \\\n",
    "다음 예제는 integer label값을 one-hot-vector label로 바꿔주는 함수입니다"
   ]
  },
  {
   "cell_type": "code",
   "execution_count": 7,
   "id": "812dea09-e0ee-4356-8346-3f69c6fc52e9",
   "metadata": {
    "pycharm": {
     "name": "#%%\n"
    }
   },
   "outputs": [],
   "source": [
    "from torchvision.transforms import Lambda"
   ]
  },
  {
   "cell_type": "code",
   "execution_count": 8,
   "id": "e73c9123-c9b6-4696-85b5-bc9a440e78d3",
   "metadata": {
    "pycharm": {
     "name": "#%%\n"
    }
   },
   "outputs": [],
   "source": [
    "target_transform = Lambda(lambda y: torch.zeros(\n",
    "    10, dtype=torch.float).scatter_(dim=0, index=torch.tensor(y), value=1))"
   ]
  },
  {
   "cell_type": "code",
   "execution_count": 9,
   "id": "0afbf939-aaf1-4fea-905a-cd1dd1a4beda",
   "metadata": {
    "pycharm": {
     "name": "#%%\n"
    }
   },
   "outputs": [
    {
     "data": {
      "text/plain": [
       "tensor([1., 0., 0., 0., 0., 0., 0., 0., 0., 0.])"
      ]
     },
     "execution_count": 9,
     "metadata": {},
     "output_type": "execute_result"
    }
   ],
   "source": [
    "target_transform(0)  # 0번째 index의 값이 1인 tensor가 출력됩니다."
   ]
  },
  {
   "cell_type": "code",
   "execution_count": 10,
   "id": "0252cc7d-619a-4e89-821e-05a14577442d",
   "metadata": {
    "pycharm": {
     "name": "#%%\n"
    }
   },
   "outputs": [
    {
     "data": {
      "text/plain": [
       "tensor([0., 1., 0., 0., 0., 0., 0., 0., 0., 0.])"
      ]
     },
     "execution_count": 10,
     "metadata": {},
     "output_type": "execute_result"
    }
   ],
   "source": [
    "target_transform(1)  # 1번째 index의 값이 1인 tensor가 출력됩니다."
   ]
  },
  {
   "cell_type": "code",
   "execution_count": null,
   "id": "c3329932-a215-4ca4-81df-233629049efd",
   "metadata": {
    "pycharm": {
     "name": "#%%\n"
    }
   },
   "outputs": [],
   "source": []
  }
 ],
 "metadata": {
  "kernelspec": {
   "display_name": "py312",
   "language": "python",
   "name": "python3"
  },
  "language_info": {
   "codemirror_mode": {
    "name": "ipython",
    "version": 3
   },
   "file_extension": ".py",
   "mimetype": "text/x-python",
   "name": "python",
   "nbconvert_exporter": "python",
   "pygments_lexer": "ipython3",
   "version": "3.12.8"
  }
 },
 "nbformat": 4,
 "nbformat_minor": 5
}
